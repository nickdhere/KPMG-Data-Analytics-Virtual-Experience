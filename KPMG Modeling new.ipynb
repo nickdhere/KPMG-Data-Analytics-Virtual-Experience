{
 "cells": [
  {
   "cell_type": "markdown",
   "id": "2727f44f",
   "metadata": {},
   "source": [
    "## Importing necessary libraries and Data"
   ]
  },
  {
   "cell_type": "code",
   "execution_count": 1,
   "id": "dbd2d08b",
   "metadata": {},
   "outputs": [],
   "source": [
    "# importing necessary libraries\n",
    "import numpy as np\n",
    "import statistics as st\n",
    "import pandas as pd\n",
    "import matplotlib.pyplot as plt\n",
    "import seaborn as sns\n",
    "import warnings\n",
    "warnings.filterwarnings('ignore')\n",
    "from pandas import ExcelWriter\n",
    "from pandas import ExcelFile"
   ]
  },
  {
   "cell_type": "code",
   "execution_count": 2,
   "id": "784fb836",
   "metadata": {},
   "outputs": [],
   "source": [
    "# reading the data\n",
    "df = pd.read_excel(\"Data.xlsx\")"
   ]
  },
  {
   "cell_type": "code",
   "execution_count": 3,
   "id": "dee45099",
   "metadata": {},
   "outputs": [],
   "source": [
    "# reading the data into various dataframes\n",
    "transaction = pd.read_excel(\"Data.xlsx\",sheet_name = 0)\n",
    "CustomerDemographic = pd.read_excel(\"Data.xlsx\", sheet_name =1)\n",
    "CustomerAddress = pd.read_excel(\"Data.xlsx\", sheet_name = 2)"
   ]
  },
  {
   "cell_type": "code",
   "execution_count": 4,
   "id": "7d915b9c",
   "metadata": {},
   "outputs": [
    {
     "data": {
      "text/plain": [
       "customer_id                               0\n",
       "first_name                                0\n",
       "last_name                               638\n",
       "gender                                    0\n",
       "past_3_years_bike_related_purchases       0\n",
       "DOB                                     438\n",
       "job_title                              2350\n",
       "job_industry_category                     0\n",
       "wealth_segment                            0\n",
       "deceased_indicator                        0\n",
       "owns_car                                  0\n",
       "tenure                                    0\n",
       "Age                                     438\n",
       "transaction_id                            0\n",
       "product_id                                0\n",
       "transaction_date                          0\n",
       "online_order                              0\n",
       "order_status                              0\n",
       "brand                                     0\n",
       "product_line                              0\n",
       "product_class                             0\n",
       "product_size                              0\n",
       "list_price                                0\n",
       "standard_cost                             0\n",
       "product_first_sold_date                   0\n",
       "address                                   0\n",
       "postcode                                  0\n",
       "state                                     0\n",
       "country                                   0\n",
       "property_valuation                        0\n",
       "dtype: int64"
      ]
     },
     "execution_count": 4,
     "metadata": {},
     "output_type": "execute_result"
    }
   ],
   "source": [
    "# merging the various dataframes\n",
    "a = transaction.merge(CustomerAddress, how='inner', on = \"customer_id\")\n",
    "data = CustomerDemographic.merge(a,how='inner', on = \"customer_id\")\n",
    "data.isnull().sum()"
   ]
  },
  {
   "cell_type": "code",
   "execution_count": 5,
   "id": "a7dfffcb",
   "metadata": {},
   "outputs": [],
   "source": [
    "# copying the data dataframe in another dataframe\n",
    "DataFrame = data.copy()"
   ]
  },
  {
   "cell_type": "code",
   "execution_count": 6,
   "id": "8e796aa1",
   "metadata": {},
   "outputs": [
    {
     "data": {
      "text/plain": [
       "Index(['customer_id', 'first_name', 'last_name', 'gender',\n",
       "       'past_3_years_bike_related_purchases', 'DOB', 'job_title',\n",
       "       'job_industry_category', 'wealth_segment', 'deceased_indicator',\n",
       "       'owns_car', 'tenure', 'Age', 'transaction_id', 'product_id',\n",
       "       'transaction_date', 'online_order', 'order_status', 'brand',\n",
       "       'product_line', 'product_class', 'product_size', 'list_price',\n",
       "       'standard_cost', 'product_first_sold_date', 'address', 'postcode',\n",
       "       'state', 'country', 'property_valuation'],\n",
       "      dtype='object')"
      ]
     },
     "execution_count": 6,
     "metadata": {},
     "output_type": "execute_result"
    }
   ],
   "source": [
    "# checking the data columns\n",
    "data.columns"
   ]
  },
  {
   "cell_type": "code",
   "execution_count": 7,
   "id": "3c026d14",
   "metadata": {},
   "outputs": [
    {
     "data": {
      "text/html": [
       "<div>\n",
       "<style scoped>\n",
       "    .dataframe tbody tr th:only-of-type {\n",
       "        vertical-align: middle;\n",
       "    }\n",
       "\n",
       "    .dataframe tbody tr th {\n",
       "        vertical-align: top;\n",
       "    }\n",
       "\n",
       "    .dataframe thead th {\n",
       "        text-align: right;\n",
       "    }\n",
       "</style>\n",
       "<table border=\"1\" class=\"dataframe\">\n",
       "  <thead>\n",
       "    <tr style=\"text-align: right;\">\n",
       "      <th></th>\n",
       "      <th>customer_id</th>\n",
       "      <th>first_name</th>\n",
       "      <th>last_name</th>\n",
       "      <th>gender</th>\n",
       "      <th>past_3_years_bike_related_purchases</th>\n",
       "      <th>DOB</th>\n",
       "      <th>job_title</th>\n",
       "      <th>job_industry_category</th>\n",
       "      <th>wealth_segment</th>\n",
       "      <th>deceased_indicator</th>\n",
       "      <th>...</th>\n",
       "      <th>product_class</th>\n",
       "      <th>product_size</th>\n",
       "      <th>list_price</th>\n",
       "      <th>standard_cost</th>\n",
       "      <th>product_first_sold_date</th>\n",
       "      <th>address</th>\n",
       "      <th>postcode</th>\n",
       "      <th>state</th>\n",
       "      <th>country</th>\n",
       "      <th>property_valuation</th>\n",
       "    </tr>\n",
       "  </thead>\n",
       "  <tbody>\n",
       "    <tr>\n",
       "      <th>0</th>\n",
       "      <td>1</td>\n",
       "      <td>Laraine</td>\n",
       "      <td>Medendorp</td>\n",
       "      <td>Female</td>\n",
       "      <td>93</td>\n",
       "      <td>1953-10-12</td>\n",
       "      <td>Executive Secretary</td>\n",
       "      <td>Health</td>\n",
       "      <td>Mass Customer</td>\n",
       "      <td>N</td>\n",
       "      <td>...</td>\n",
       "      <td>medium</td>\n",
       "      <td>medium</td>\n",
       "      <td>235.63</td>\n",
       "      <td>125.07</td>\n",
       "      <td>38482</td>\n",
       "      <td>060 Morning Avenue</td>\n",
       "      <td>2016</td>\n",
       "      <td>New South Wales</td>\n",
       "      <td>Australia</td>\n",
       "      <td>10</td>\n",
       "    </tr>\n",
       "    <tr>\n",
       "      <th>1</th>\n",
       "      <td>1</td>\n",
       "      <td>Laraine</td>\n",
       "      <td>Medendorp</td>\n",
       "      <td>Female</td>\n",
       "      <td>93</td>\n",
       "      <td>1953-10-12</td>\n",
       "      <td>Executive Secretary</td>\n",
       "      <td>Health</td>\n",
       "      <td>Mass Customer</td>\n",
       "      <td>N</td>\n",
       "      <td>...</td>\n",
       "      <td>medium</td>\n",
       "      <td>medium</td>\n",
       "      <td>1577.53</td>\n",
       "      <td>826.51</td>\n",
       "      <td>39526</td>\n",
       "      <td>060 Morning Avenue</td>\n",
       "      <td>2016</td>\n",
       "      <td>New South Wales</td>\n",
       "      <td>Australia</td>\n",
       "      <td>10</td>\n",
       "    </tr>\n",
       "    <tr>\n",
       "      <th>2</th>\n",
       "      <td>1</td>\n",
       "      <td>Laraine</td>\n",
       "      <td>Medendorp</td>\n",
       "      <td>Female</td>\n",
       "      <td>93</td>\n",
       "      <td>1953-10-12</td>\n",
       "      <td>Executive Secretary</td>\n",
       "      <td>Health</td>\n",
       "      <td>Mass Customer</td>\n",
       "      <td>N</td>\n",
       "      <td>...</td>\n",
       "      <td>low</td>\n",
       "      <td>small</td>\n",
       "      <td>1720.70</td>\n",
       "      <td>1531.42</td>\n",
       "      <td>37823</td>\n",
       "      <td>060 Morning Avenue</td>\n",
       "      <td>2016</td>\n",
       "      <td>New South Wales</td>\n",
       "      <td>Australia</td>\n",
       "      <td>10</td>\n",
       "    </tr>\n",
       "    <tr>\n",
       "      <th>3</th>\n",
       "      <td>1</td>\n",
       "      <td>Laraine</td>\n",
       "      <td>Medendorp</td>\n",
       "      <td>Female</td>\n",
       "      <td>93</td>\n",
       "      <td>1953-10-12</td>\n",
       "      <td>Executive Secretary</td>\n",
       "      <td>Health</td>\n",
       "      <td>Mass Customer</td>\n",
       "      <td>N</td>\n",
       "      <td>...</td>\n",
       "      <td>medium</td>\n",
       "      <td>medium</td>\n",
       "      <td>360.40</td>\n",
       "      <td>270.30</td>\n",
       "      <td>37873</td>\n",
       "      <td>060 Morning Avenue</td>\n",
       "      <td>2016</td>\n",
       "      <td>New South Wales</td>\n",
       "      <td>Australia</td>\n",
       "      <td>10</td>\n",
       "    </tr>\n",
       "    <tr>\n",
       "      <th>4</th>\n",
       "      <td>1</td>\n",
       "      <td>Laraine</td>\n",
       "      <td>Medendorp</td>\n",
       "      <td>Female</td>\n",
       "      <td>93</td>\n",
       "      <td>1953-10-12</td>\n",
       "      <td>Executive Secretary</td>\n",
       "      <td>Health</td>\n",
       "      <td>Mass Customer</td>\n",
       "      <td>N</td>\n",
       "      <td>...</td>\n",
       "      <td>medium</td>\n",
       "      <td>medium</td>\n",
       "      <td>71.49</td>\n",
       "      <td>53.62</td>\n",
       "      <td>38573</td>\n",
       "      <td>060 Morning Avenue</td>\n",
       "      <td>2016</td>\n",
       "      <td>New South Wales</td>\n",
       "      <td>Australia</td>\n",
       "      <td>10</td>\n",
       "    </tr>\n",
       "  </tbody>\n",
       "</table>\n",
       "<p>5 rows × 30 columns</p>\n",
       "</div>"
      ],
      "text/plain": [
       "   customer_id first_name  last_name  gender  \\\n",
       "0            1    Laraine  Medendorp  Female   \n",
       "1            1    Laraine  Medendorp  Female   \n",
       "2            1    Laraine  Medendorp  Female   \n",
       "3            1    Laraine  Medendorp  Female   \n",
       "4            1    Laraine  Medendorp  Female   \n",
       "\n",
       "   past_3_years_bike_related_purchases        DOB            job_title  \\\n",
       "0                                   93 1953-10-12  Executive Secretary   \n",
       "1                                   93 1953-10-12  Executive Secretary   \n",
       "2                                   93 1953-10-12  Executive Secretary   \n",
       "3                                   93 1953-10-12  Executive Secretary   \n",
       "4                                   93 1953-10-12  Executive Secretary   \n",
       "\n",
       "  job_industry_category wealth_segment deceased_indicator  ... product_class  \\\n",
       "0                Health  Mass Customer                  N  ...        medium   \n",
       "1                Health  Mass Customer                  N  ...        medium   \n",
       "2                Health  Mass Customer                  N  ...           low   \n",
       "3                Health  Mass Customer                  N  ...        medium   \n",
       "4                Health  Mass Customer                  N  ...        medium   \n",
       "\n",
       "   product_size  list_price  standard_cost  product_first_sold_date  \\\n",
       "0        medium      235.63         125.07                    38482   \n",
       "1        medium     1577.53         826.51                    39526   \n",
       "2         small     1720.70        1531.42                    37823   \n",
       "3        medium      360.40         270.30                    37873   \n",
       "4        medium       71.49          53.62                    38573   \n",
       "\n",
       "              address  postcode            state    country property_valuation  \n",
       "0  060 Morning Avenue      2016  New South Wales  Australia                 10  \n",
       "1  060 Morning Avenue      2016  New South Wales  Australia                 10  \n",
       "2  060 Morning Avenue      2016  New South Wales  Australia                 10  \n",
       "3  060 Morning Avenue      2016  New South Wales  Australia                 10  \n",
       "4  060 Morning Avenue      2016  New South Wales  Australia                 10  \n",
       "\n",
       "[5 rows x 30 columns]"
      ]
     },
     "execution_count": 7,
     "metadata": {},
     "output_type": "execute_result"
    }
   ],
   "source": [
    "# checking the data dataframe\n",
    "data.head()"
   ]
  },
  {
   "cell_type": "markdown",
   "id": "a621ae9a",
   "metadata": {},
   "source": [
    "### Creating a new Column Profit(which will be our target column for later models)"
   ]
  },
  {
   "cell_type": "code",
   "execution_count": 8,
   "id": "87e703b5",
   "metadata": {},
   "outputs": [],
   "source": [
    "data['profit'] = data['list_price'] - data['standard_cost']"
   ]
  },
  {
   "cell_type": "markdown",
   "id": "e223ccdb",
   "metadata": {},
   "source": [
    "### Dropping Unnecessary columns"
   ]
  },
  {
   "cell_type": "code",
   "execution_count": 9,
   "id": "0d09f34c",
   "metadata": {},
   "outputs": [],
   "source": [
    "data.drop(['transaction_id','country','address','order_status','transaction_date','deceased_indicator','job_title','DOB','first_name','last_name','list_price','standard_cost'],inplace = True,axis = 1)"
   ]
  },
  {
   "cell_type": "markdown",
   "id": "4fb9c5dd",
   "metadata": {},
   "source": [
    "#### Checking the unique, no of unique values and values_counts for the respected columns "
   ]
  },
  {
   "cell_type": "code",
   "execution_count": 10,
   "id": "f79cd6cd",
   "metadata": {},
   "outputs": [],
   "source": [
    "# creating list for suspected categorical columns\n",
    "list = ['gender',\n",
    "        'job_industry_category', 'wealth_segment', 'owns_car',\n",
    "         'online_order', 'brand', 'product_line', 'product_class',\n",
    "        'product_size', 'product_first_sold_date', 'postcode', 'state',\n",
    "        'property_valuation', 'profit']"
   ]
  },
  {
   "cell_type": "code",
   "execution_count": 11,
   "id": "f35e0e97",
   "metadata": {},
   "outputs": [
    {
     "name": "stdout",
     "output_type": "stream",
     "text": [
      "________________gender_____________\n",
      "['Female' 'Male' 'Unspecified']\n",
      "________________job_industry_category_____________\n",
      "['Health' 'Financial Services' 'IT' 'Retail' 'Agriculture' 'Property'\n",
      " 'Manufacturing' 'Telecommunications' 'Entertainment']\n",
      "________________wealth_segment_____________\n",
      "['Mass Customer' 'High Net Worth' 'Affluent Customer']\n",
      "________________owns_car_____________\n",
      "['Yes' 'No']\n",
      "________________online_order_____________\n",
      "[0 1]\n",
      "________________brand_____________\n",
      "['OHM Cycles' 'Solex' 'Trek Bicycles' 'Norco Bicycles' 'Giant Bicycles'\n",
      " 'WeareA2B']\n",
      "________________product_line_____________\n",
      "['Standard' 'Road' 'Mountain' 'Touring']\n",
      "________________product_class_____________\n",
      "['medium' 'low' 'high']\n",
      "________________product_size_____________\n",
      "['medium' 'small' 'large']\n",
      "________________product_first_sold_date_____________\n",
      "[38482 39526 37823 37873 38573 33552 33455 37337 40618 37838 35378 40784\n",
      " 38206 37874 34143 33364 36361 40410 41848 42226 38258 37499 42404 42172\n",
      " 36367 40336 41922 41701 42218 42710 40672 37698 34527 37539 36146 42105\n",
      " 35707 34244 38647 34115 35560 33888 41245 33429 39427 42688 36334 34165\n",
      " 39915 39880 41167 40553 38991 42295 40670 39031 42696 35455 38002 35667\n",
      " 42145 42458 36833 41345 33879 34996 38339 35470 41064 35160 36498 41434\n",
      " 40649 38693 41533 38216 40779 42560 35052 38750 33259 37220 39298 38193\n",
      " 40303 36668 41009 34170 38859 40487 34556 37668 36145 37626 37659 34079\n",
      " 34071 34586 41047 33549]\n",
      "________________postcode_____________\n",
      "[2016 2153 4211 3216 2210 2023 3044 4557 3799 2760 2428 2233 2444 2650\n",
      " 4413 4740 3218 4868 4116 2519 2135 2756 4005 4127 4726 4805 2212 2207\n",
      " 3350 3931 4018 4670 2480 2322 2047 4503 2145 4350 2142 2029 2127 2166\n",
      " 2026 2765 2749 2745 3752 2217 2230 2070 2213 4208 4213 4170 2073 3561\n",
      " 2330 3977 2204 2075 2038 2069 2100 3133 3070 2777 2125 2766 2209 2160\n",
      " 2065 2150 2168 2046 4171 2155 2517 2096 3204 2170 3844 4226 2485 2097\n",
      " 4817 2516 3074 4508 4405 2452 2205 4132 4744 2158 3201 4178 2112 2033\n",
      " 4401 3186 3058 4017 2315 2285 2219 4509 2759 2747 2025 3191 3025 2154\n",
      " 2119 3016 4113 2032 4300 4352 3020 2116 3057 2099 3749 2148 3145 2021\n",
      " 2333 2280 4120 3638 2074 2880 2430 4560 2220 3031 2250 3196 4680 3143\n",
      " 3021 2138 4811 2085 3084 3170 4078 3152 2159 4655 4220 4012 2015 2776\n",
      " 3011 2761 2110 2566 2506 2226 2508 2036 2018 3666 4514 2525 4152 2200\n",
      " 3023 3500 2283 2102 2040 2304 2340 3580 3355 2287 2324 2323 2320 2031\n",
      " 2064 2176 3195 2010 2768 2752 3802 4735 3205 2165 3125 2798 2117 4551\n",
      " 3064 3810 2830 2141 3029 2173 3199 4506 2035 3030 3340 3182 2450 2227\n",
      " 2216 3796 3197 2232 2365 4701 4210 2223 4122 2515 4214 3437 3338 2203\n",
      " 2088 3356 3032 3105 3101 2763 2089 2126 2251 3127 3087 3131 2193 4055\n",
      " 2530 2066 4217 4020 2179 3130 4570 3215 3165 3936 2265 3034 2162 3033\n",
      " 2144 3805 2642 3228 3444 2076 4124 4305 2579 2835 2536 2770 2646 2750\n",
      " 4558 2570 3082 4223 3183 3150 2549 3040 4209 4173 2068 2259 2260 4074\n",
      " 4215 3008 2748 2567 3192 3015 4221 3121 4870 3337 2118 2050 2120 3812\n",
      " 2147 3111 3012 2197 3162 2037 3141 3178 3564 3550 3775 3004 3185 2447\n",
      " 3910 4702 2133 3075 3911 2487 4123 3156 3126 2027 2211 2564 2049 3690\n",
      " 3282 2261 2576 3108 4165 2190 2337 2307 2121 2716 3168 3076 2087 4505\n",
      " 2630 2225 3013 2111 2106 3930 2291 2305 2300 4179 2539 3207 4340 3137\n",
      " 3068 2041 4504 2306 4075 3975 4114 4341 4022 4820 3028 2326 3429 4218\n",
      " 2380 3171 2560 2565 3850 3807 4800 2577 2199 2134 2800 2048 2557 2548\n",
      " 2262 2463 2481 2072 3155 3095 4110 2017 4562 2571 3480 3551 3136 2753\n",
      " 4615 2192 2290 4810 2263 4118 3750 4019 2293 2143 3630 2164 4869 2137\n",
      " 2093 2354 4814 2282 2292 2171 2077 4873 2754 2767 2067 2122 3976 2000\n",
      " 3175 2156 2228 4207 3187 2680 2527 2163 4415 3139 3147 3623 4356 2196\n",
      " 2177 2537 4720 3124 3765 2486 4511 2222 2795 3188 3730 2234 2062 3060\n",
      " 4131 2477 2195 3400 3037 4507 2113 2229 3177 2641 4212 3241 3428 4227\n",
      " 3806 3173 2289 4500 4825 4161 3757 3073 2871 4034 2194 2146 3046 4380\n",
      " 2769 3024 3934 3109 2540 2136 3225 4053 2214 3809 4556 4573 2131 3184\n",
      " 2619 3138 2101 4510 2647 2152 2573 2206 4815 2526 4502 2710 2090 3142\n",
      " 3442 4064 2529 2061 3644 3043 2873 2541 2321 2079 3072 2007 2620 2086\n",
      " 2231 2580 2020 2852 3677 4818 4519 4806 2478 4610 4512 4370 4306 4304\n",
      " 4205 4164 4115 4280 4128 3840 2582 3747 3620 3151 3380 3280 3224 3222\n",
      " 3226 3198 3190 3169 3163 3161 3791 4119 3140 3818 3106 3099 3754 3756\n",
      " 3061 3048 3036 3107 3022 3049 2870 2774 2762 2794 2773 2640 2439 2528\n",
      " 2440 2325 2161 2848 4878 2775 2224 2441 4877 3264 2681 3018 2043 2107\n",
      " 4567 4011 2063 2028 3941 3585 3219 4105 2094 4133 3071 2284 4121 3808\n",
      " 4035 3149 3114 2030 3039 3352 2114 4721 2011 4157 2460 2095 3103 3212\n",
      " 4224 4344 2009 2151 3181 2665 2474 3166 2820 4160 3189 4030 2042 4032\n",
      " 4103 2868 2575 2358 2449 2299 4014 2484 2221 2318 3134 3821 4216 2470\n",
      " 4580 2563 2264 2445 3214 2327 4104 3172 2505 2469 3088 3912 2446 2810\n",
      " 4061 3083 4153 3458 4421 3505 3006 4037 3918 2335 3079 2400 2092 2714\n",
      " 3555 2008 4006 3631 4228 4101 3804 2022 4568 3115 4343 3223 3116 2208\n",
      " 4125 4070 2360 4301 2533 2758 2500 4051 2298 2178 3174 4455 4060 4650\n",
      " 3160 3250 3342 2350 2785 3995 3351 3000 2462 3041 2705 4812 3260 2534\n",
      " 3146 3618 2218 2167 2034 3279 4106 4151 4700 4860 2256 4031 2779 4660\n",
      " 4073 3067 2843 3027 3066 2572 4054 4069 3081 2343 3377 3065 2295 4154\n",
      " 2044 2316 3179 3933 4883 2081 2471 3148 3053 4285 3056 4275 3132 3939\n",
      " 3042 2502 2454 3085 4130 2071 4390 3793 3915 4007 3128 3038 2869 3059\n",
      " 3153 3213 3862 3610 2281 4102 2060 3786 2019 2191 2713 3094 3122 2850\n",
      " 4272 3051 3634 3803 4515 2448 3331 2535 2783 2346 4552 3621 3093 2518\n",
      " 3158 2443 2558 4068 3441 2731 3284 2104 3940 2594 3129 4799 3144 4059\n",
      " 4109 4077 2115 3966 2267 3194 4159 4879 3240 2671 3523 4565 2780 2799\n",
      " 4564 3922 2128 4270 2546 2821 3616 4750 2130]\n",
      "________________state_____________\n",
      "['New South Wales' 'Queensland' 'Victoria']\n",
      "________________property_valuation_____________\n",
      "[10  9 12  8  4  6  7  3  5 11  1  2]\n",
      "________________profit_____________\n",
      "[ 110.56  751.02  189.28   90.1    17.87  709.34   75.75   57.73  431.33\n",
      "   75.14  509.97  448.68  547.28 1230.3    41.13  179.44  143.36 1028.76\n",
      " 1660.88 1055.82  114.93   15.08  327.98  437.46  198.22   91.15  133.78\n",
      " 1103.43  299.27  451.65 1230.27   25.09  309.81  574.62 1305.25  198.29\n",
      " 1630.25  167.21   45.96 1592.19  104.24  144.26   64.51 1215.34  641.64\n",
      "  812.44 1702.55 1544.61  182.81  693.76  450.77  583.27  128.46 1279.4\n",
      "  143.82  129.01  139.23   50.66  356.5   155.65  209.84  737.57 1383.61\n",
      "    4.8   459.46  471.6    75.48  827.16  690.49  502.47  187.39 1408.91\n",
      " 1069.55  217.51  830.24  903.11  737.17  445.21  110.81  133.38 1612.25\n",
      "  195.34  834.94 1295.43  135.85   64.93   43.97 1010.02  872.89  957.02\n",
      "  771.12  802.26   14.23   72.6   152.55  456.45  199.1   745.94  409.86\n",
      "  817.36]\n"
     ]
    }
   ],
   "source": [
    "# checking the unique values\n",
    "for i in list:\n",
    "    print(\"________________\"+i+\"_____________\")\n",
    "    print(data[i].unique())"
   ]
  },
  {
   "cell_type": "code",
   "execution_count": 12,
   "id": "09e8b7e8",
   "metadata": {},
   "outputs": [
    {
     "name": "stdout",
     "output_type": "stream",
     "text": [
      "________________gender_____________\n",
      "3\n",
      "Female         9900\n",
      "Male           9419\n",
      "Unspecified     446\n",
      "Name: gender, dtype: int64\n",
      "________________job_industry_category_____________\n",
      "9\n",
      "Manufacturing         5369\n",
      "Financial Services    5264\n",
      "Health                3436\n",
      "Retail                1746\n",
      "Property              1278\n",
      "IT                    1060\n",
      "Entertainment          694\n",
      "Agriculture            566\n",
      "Telecommunications     352\n",
      "Name: job_industry_category, dtype: int64\n",
      "________________wealth_segment_____________\n",
      "3\n",
      "Mass Customer        9923\n",
      "High Net Worth       5040\n",
      "Affluent Customer    4802\n",
      "Name: wealth_segment, dtype: int64\n",
      "________________owns_car_____________\n",
      "2\n",
      "Yes    9942\n",
      "No     9823\n",
      "Name: owns_car, dtype: int64\n",
      "________________online_order_____________\n",
      "2\n",
      "1    10082\n",
      "0     9683\n",
      "Name: online_order, dtype: int64\n",
      "________________brand_____________\n",
      "6\n",
      "Solex             4246\n",
      "Giant Bicycles    3308\n",
      "WeareA2B          3288\n",
      "OHM Cycles        3037\n",
      "Trek Bicycles     2982\n",
      "Norco Bicycles    2904\n",
      "Name: brand, dtype: int64\n",
      "________________product_line_____________\n",
      "4\n",
      "Standard    14151\n",
      "Road         3962\n",
      "Touring      1232\n",
      "Mountain      420\n",
      "Name: product_line, dtype: int64\n",
      "________________product_class_____________\n",
      "3\n",
      "medium    13795\n",
      "high       3012\n",
      "low        2958\n",
      "Name: product_class, dtype: int64\n",
      "________________product_size_____________\n",
      "3\n",
      "medium    12963\n",
      "large      3969\n",
      "small      2833\n",
      "Name: product_size, dtype: int64\n",
      "________________product_first_sold_date_____________\n",
      "100\n",
      "33879    233\n",
      "41064    229\n",
      "37823    226\n",
      "39880    222\n",
      "38216    220\n",
      "        ... \n",
      "41848    168\n",
      "42404    168\n",
      "41922    166\n",
      "37659    163\n",
      "34586    162\n",
      "Name: product_first_sold_date, Length: 100, dtype: int64\n",
      "________________postcode_____________\n",
      "835\n",
      "2153    162\n",
      "2770    145\n",
      "2170    140\n",
      "2155    133\n",
      "3977    127\n",
      "       ... \n",
      "3060      1\n",
      "2850      1\n",
      "3818      1\n",
      "3616      1\n",
      "3194      1\n",
      "Name: postcode, Length: 835, dtype: int64\n",
      "________________state_____________\n",
      "3\n",
      "New South Wales    10555\n",
      "Victoria            4988\n",
      "Queensland          4222\n",
      "Name: state, dtype: int64\n",
      "________________property_valuation_____________\n",
      "12\n",
      "8     3303\n",
      "9     3231\n",
      "10    2819\n",
      "7     2346\n",
      "11    1383\n",
      "6     1168\n",
      "5     1123\n",
      "4     1061\n",
      "12     963\n",
      "3      890\n",
      "1      799\n",
      "2      679\n",
      "Name: property_valuation, dtype: int64\n",
      "________________profit_____________\n",
      "100\n",
      "1702.55    465\n",
      "448.68     396\n",
      "17.87      274\n",
      "1069.55    235\n",
      "1630.25    233\n",
      "          ... \n",
      "129.01     157\n",
      "143.36     141\n",
      "456.45     126\n",
      "50.66      123\n",
      "830.24     113\n",
      "Name: profit, Length: 100, dtype: int64\n"
     ]
    }
   ],
   "source": [
    "# Checking the no of unique values and value counts for the above columns\n",
    "for i in list:\n",
    "    print(\"________________\"+i+\"_____________\")\n",
    "    print(data[i].nunique())\n",
    "    print(data[i].value_counts())"
   ]
  },
  {
   "cell_type": "markdown",
   "id": "62db9569",
   "metadata": {},
   "source": [
    "### Encoding for Categorical Variables "
   ]
  },
  {
   "cell_type": "code",
   "execution_count": 13,
   "id": "c3d40100",
   "metadata": {},
   "outputs": [],
   "source": [
    "# label Encoding and One hot encoding list of variables\n",
    "label_encoding= ['wealth_segment','brand','job_industry_category','product_line']\n",
    "hot_encoding =['owns_car','product_class','product_size','state','gender']"
   ]
  },
  {
   "cell_type": "code",
   "execution_count": 14,
   "id": "614b36c4",
   "metadata": {},
   "outputs": [],
   "source": [
    "from sklearn import preprocessing\n",
    "  \n",
    "# label_encoder object knows \n",
    "# how to understand word labels.\n",
    "label_encoder = preprocessing.LabelEncoder()\n"
   ]
  },
  {
   "cell_type": "code",
   "execution_count": 15,
   "id": "7bb92795",
   "metadata": {},
   "outputs": [],
   "source": [
    "# label Encoding for categorical variables who have more than 2 unique variables\n",
    "for i in label_encoding:\n",
    "    # Encode labels in column 'species'.\n",
    "    data[i]= label_encoder.fit_transform(data[i])"
   ]
  },
  {
   "cell_type": "markdown",
   "id": "fd19c46d",
   "metadata": {},
   "source": [
    "Instead of using map function for a categorical column, we used label encoder for the ease of coding."
   ]
  },
  {
   "cell_type": "code",
   "execution_count": 16,
   "id": "b65d56ce",
   "metadata": {},
   "outputs": [],
   "source": [
    "#hot Encoding for categorical variable who have binary values\n",
    "for j in hot_encoding:\n",
    "    data = pd.get_dummies(data,columns = [j],drop_first=True)"
   ]
  },
  {
   "cell_type": "markdown",
   "id": "c284d27d",
   "metadata": {},
   "source": [
    "### Checking the null values"
   ]
  },
  {
   "cell_type": "code",
   "execution_count": 17,
   "id": "b704a6c0",
   "metadata": {},
   "outputs": [
    {
     "name": "stdout",
     "output_type": "stream",
     "text": [
      "________customer_id_________\n",
      "0\n",
      "________past_3_years_bike_related_purchases_________\n",
      "0\n",
      "________job_industry_category_________\n",
      "0\n",
      "________wealth_segment_________\n",
      "0\n",
      "________tenure_________\n",
      "0\n",
      "________Age_________\n",
      "438\n",
      "________product_id_________\n",
      "0\n",
      "________online_order_________\n",
      "0\n",
      "________brand_________\n",
      "0\n",
      "________product_line_________\n",
      "0\n",
      "________product_first_sold_date_________\n",
      "0\n",
      "________postcode_________\n",
      "0\n",
      "________property_valuation_________\n",
      "0\n",
      "________profit_________\n",
      "0\n",
      "________owns_car_Yes_________\n",
      "0\n",
      "________product_class_low_________\n",
      "0\n",
      "________product_class_medium_________\n",
      "0\n",
      "________product_size_medium_________\n",
      "0\n",
      "________product_size_small_________\n",
      "0\n",
      "________state_Queensland_________\n",
      "0\n",
      "________state_Victoria_________\n",
      "0\n",
      "________gender_Male_________\n",
      "0\n",
      "________gender_Unspecified_________\n",
      "0\n"
     ]
    }
   ],
   "source": [
    "# Lets check null value\n",
    "list_b = ['customer_id', 'past_3_years_bike_related_purchases',\n",
    "       'job_industry_category', 'wealth_segment', 'tenure', 'Age',\n",
    "       'product_id', 'online_order', 'brand', 'product_line',\n",
    "       'product_first_sold_date', 'postcode', 'property_valuation', 'profit',\n",
    "       'owns_car_Yes', 'product_class_low', 'product_class_medium',\n",
    "       'product_size_medium', 'product_size_small', 'state_Queensland',\n",
    "       'state_Victoria', 'gender_Male', 'gender_Unspecified']\n",
    "for k in list_b:\n",
    "    print(\"________\"+k+\"_________\")\n",
    "    print(data[k].isnull().sum())"
   ]
  },
  {
   "cell_type": "code",
   "execution_count": 18,
   "id": "11f87400",
   "metadata": {},
   "outputs": [],
   "source": [
    "# finding the age median value \n",
    "media_data = data['Age'].median()"
   ]
  },
  {
   "cell_type": "code",
   "execution_count": 19,
   "id": "08697885",
   "metadata": {},
   "outputs": [],
   "source": [
    "# Lets fill the missing value\n",
    "data['Age'].fillna(media_data,inplace = True)"
   ]
  },
  {
   "cell_type": "code",
   "execution_count": 20,
   "id": "40b77c66",
   "metadata": {},
   "outputs": [
    {
     "data": {
      "text/plain": [
       "0"
      ]
     },
     "execution_count": 20,
     "metadata": {},
     "output_type": "execute_result"
    }
   ],
   "source": [
    "# checking the null values of Age column\n",
    "data['Age'].isnull().sum()"
   ]
  },
  {
   "cell_type": "markdown",
   "id": "4fa608f9",
   "metadata": {},
   "source": [
    "### Checking the correlationship between the variables"
   ]
  },
  {
   "cell_type": "code",
   "execution_count": 21,
   "id": "dd325279",
   "metadata": {},
   "outputs": [
    {
     "data": {
      "image/png": "[encoded data removed]",
      "text/plain": [
       "<Figure size 4000x2000 with 2 Axes>"
      ]
     },
     "metadata": {},
     "output_type": "display_data"
    }
   ],
   "source": [
    "plt.figure(figsize=(40,20))\n",
    "sns.heatmap(data.corr(),annot = True)\n",
    "plt.show()"
   ]
  },
  {
   "cell_type": "markdown",
   "id": "c2cf6da4",
   "metadata": {},
   "source": [
    "### Categorising Profit Column "
   ]
  },
  {
   "cell_type": "code",
   "execution_count": 22,
   "id": "18d60572",
   "metadata": {},
   "outputs": [
    {
     "data": {
      "text/plain": [
       "551.7849850746201"
      ]
     },
     "execution_count": 22,
     "metadata": {},
     "output_type": "execute_result"
    }
   ],
   "source": [
    "data['profit'].mean()"
   ]
  },
  {
   "cell_type": "code",
   "execution_count": 23,
   "id": "d7454a8f",
   "metadata": {},
   "outputs": [
    {
     "name": "stdout",
     "output_type": "stream",
     "text": [
      "max  1702.5499999999997\n",
      "min  4.8\n"
     ]
    }
   ],
   "source": [
    "print(\"max \",data['profit'].max())\n",
    "print(\"min \",data['profit'].min())"
   ]
  },
  {
   "cell_type": "code",
   "execution_count": 24,
   "id": "bc60ba6d",
   "metadata": {},
   "outputs": [],
   "source": [
    "data['profit'] = data['profit'].apply(lambda x : 0 if x < 552 else 1 )"
   ]
  },
  {
   "cell_type": "code",
   "execution_count": 25,
   "id": "cb332b8c",
   "metadata": {},
   "outputs": [
    {
     "data": {
      "text/plain": [
       "0    11897\n",
       "1     7868\n",
       "Name: profit, dtype: int64"
      ]
     },
     "execution_count": 25,
     "metadata": {},
     "output_type": "execute_result"
    }
   ],
   "source": [
    "data['profit'].value_counts()"
   ]
  },
  {
   "cell_type": "code",
   "execution_count": 26,
   "id": "52a46d43",
   "metadata": {},
   "outputs": [
    {
     "data": {
      "text/html": [
       "<div>\n",
       "<style scoped>\n",
       "    .dataframe tbody tr th:only-of-type {\n",
       "        vertical-align: middle;\n",
       "    }\n",
       "\n",
       "    .dataframe tbody tr th {\n",
       "        vertical-align: top;\n",
       "    }\n",
       "\n",
       "    .dataframe thead th {\n",
       "        text-align: right;\n",
       "    }\n",
       "</style>\n",
       "<table border=\"1\" class=\"dataframe\">\n",
       "  <thead>\n",
       "    <tr style=\"text-align: right;\">\n",
       "      <th></th>\n",
       "      <th>customer_id</th>\n",
       "      <th>past_3_years_bike_related_purchases</th>\n",
       "      <th>job_industry_category</th>\n",
       "      <th>wealth_segment</th>\n",
       "      <th>tenure</th>\n",
       "      <th>Age</th>\n",
       "      <th>product_id</th>\n",
       "      <th>online_order</th>\n",
       "      <th>brand</th>\n",
       "      <th>product_line</th>\n",
       "      <th>...</th>\n",
       "      <th>profit</th>\n",
       "      <th>owns_car_Yes</th>\n",
       "      <th>product_class_low</th>\n",
       "      <th>product_class_medium</th>\n",
       "      <th>product_size_medium</th>\n",
       "      <th>product_size_small</th>\n",
       "      <th>state_Queensland</th>\n",
       "      <th>state_Victoria</th>\n",
       "      <th>gender_Male</th>\n",
       "      <th>gender_Unspecified</th>\n",
       "    </tr>\n",
       "  </thead>\n",
       "  <tbody>\n",
       "    <tr>\n",
       "      <th>0</th>\n",
       "      <td>1</td>\n",
       "      <td>93</td>\n",
       "      <td>3</td>\n",
       "      <td>2</td>\n",
       "      <td>11</td>\n",
       "      <td>64.0</td>\n",
       "      <td>86</td>\n",
       "      <td>0</td>\n",
       "      <td>2</td>\n",
       "      <td>2</td>\n",
       "      <td>...</td>\n",
       "      <td>0</td>\n",
       "      <td>1</td>\n",
       "      <td>0</td>\n",
       "      <td>1</td>\n",
       "      <td>1</td>\n",
       "      <td>0</td>\n",
       "      <td>0</td>\n",
       "      <td>0</td>\n",
       "      <td>0</td>\n",
       "      <td>0</td>\n",
       "    </tr>\n",
       "    <tr>\n",
       "      <th>1</th>\n",
       "      <td>1</td>\n",
       "      <td>93</td>\n",
       "      <td>3</td>\n",
       "      <td>2</td>\n",
       "      <td>11</td>\n",
       "      <td>64.0</td>\n",
       "      <td>38</td>\n",
       "      <td>1</td>\n",
       "      <td>3</td>\n",
       "      <td>2</td>\n",
       "      <td>...</td>\n",
       "      <td>1</td>\n",
       "      <td>1</td>\n",
       "      <td>0</td>\n",
       "      <td>1</td>\n",
       "      <td>1</td>\n",
       "      <td>0</td>\n",
       "      <td>0</td>\n",
       "      <td>0</td>\n",
       "      <td>0</td>\n",
       "      <td>0</td>\n",
       "    </tr>\n",
       "    <tr>\n",
       "      <th>2</th>\n",
       "      <td>1</td>\n",
       "      <td>93</td>\n",
       "      <td>3</td>\n",
       "      <td>2</td>\n",
       "      <td>11</td>\n",
       "      <td>64.0</td>\n",
       "      <td>47</td>\n",
       "      <td>1</td>\n",
       "      <td>4</td>\n",
       "      <td>1</td>\n",
       "      <td>...</td>\n",
       "      <td>0</td>\n",
       "      <td>1</td>\n",
       "      <td>1</td>\n",
       "      <td>0</td>\n",
       "      <td>0</td>\n",
       "      <td>1</td>\n",
       "      <td>0</td>\n",
       "      <td>0</td>\n",
       "      <td>0</td>\n",
       "      <td>0</td>\n",
       "    </tr>\n",
       "    <tr>\n",
       "      <th>3</th>\n",
       "      <td>1</td>\n",
       "      <td>93</td>\n",
       "      <td>3</td>\n",
       "      <td>2</td>\n",
       "      <td>11</td>\n",
       "      <td>64.0</td>\n",
       "      <td>72</td>\n",
       "      <td>0</td>\n",
       "      <td>1</td>\n",
       "      <td>2</td>\n",
       "      <td>...</td>\n",
       "      <td>0</td>\n",
       "      <td>1</td>\n",
       "      <td>0</td>\n",
       "      <td>1</td>\n",
       "      <td>1</td>\n",
       "      <td>0</td>\n",
       "      <td>0</td>\n",
       "      <td>0</td>\n",
       "      <td>0</td>\n",
       "      <td>0</td>\n",
       "    </tr>\n",
       "    <tr>\n",
       "      <th>4</th>\n",
       "      <td>1</td>\n",
       "      <td>93</td>\n",
       "      <td>3</td>\n",
       "      <td>2</td>\n",
       "      <td>11</td>\n",
       "      <td>64.0</td>\n",
       "      <td>2</td>\n",
       "      <td>0</td>\n",
       "      <td>3</td>\n",
       "      <td>2</td>\n",
       "      <td>...</td>\n",
       "      <td>0</td>\n",
       "      <td>1</td>\n",
       "      <td>0</td>\n",
       "      <td>1</td>\n",
       "      <td>1</td>\n",
       "      <td>0</td>\n",
       "      <td>0</td>\n",
       "      <td>0</td>\n",
       "      <td>0</td>\n",
       "      <td>0</td>\n",
       "    </tr>\n",
       "  </tbody>\n",
       "</table>\n",
       "<p>5 rows × 23 columns</p>\n",
       "</div>"
      ],
      "text/plain": [
       "   customer_id  past_3_years_bike_related_purchases  job_industry_category  \\\n",
       "0            1                                   93                      3   \n",
       "1            1                                   93                      3   \n",
       "2            1                                   93                      3   \n",
       "3            1                                   93                      3   \n",
       "4            1                                   93                      3   \n",
       "\n",
       "   wealth_segment  tenure   Age  product_id  online_order  brand  \\\n",
       "0               2      11  64.0          86             0      2   \n",
       "1               2      11  64.0          38             1      3   \n",
       "2               2      11  64.0          47             1      4   \n",
       "3               2      11  64.0          72             0      1   \n",
       "4               2      11  64.0           2             0      3   \n",
       "\n",
       "   product_line  ...  profit  owns_car_Yes  product_class_low  \\\n",
       "0             2  ...       0             1                  0   \n",
       "1             2  ...       1             1                  0   \n",
       "2             1  ...       0             1                  1   \n",
       "3             2  ...       0             1                  0   \n",
       "4             2  ...       0             1                  0   \n",
       "\n",
       "   product_class_medium  product_size_medium  product_size_small  \\\n",
       "0                     1                    1                   0   \n",
       "1                     1                    1                   0   \n",
       "2                     0                    0                   1   \n",
       "3                     1                    1                   0   \n",
       "4                     1                    1                   0   \n",
       "\n",
       "   state_Queensland  state_Victoria  gender_Male  gender_Unspecified  \n",
       "0                 0               0            0                   0  \n",
       "1                 0               0            0                   0  \n",
       "2                 0               0            0                   0  \n",
       "3                 0               0            0                   0  \n",
       "4                 0               0            0                   0  \n",
       "\n",
       "[5 rows x 23 columns]"
      ]
     },
     "execution_count": 26,
     "metadata": {},
     "output_type": "execute_result"
    }
   ],
   "source": [
    "data.head()"
   ]
  },
  {
   "cell_type": "markdown",
   "id": "dbf02a0f",
   "metadata": {},
   "source": [
    "### Splitting the data into Target Variable and predictor variables "
   ]
  },
  {
   "cell_type": "code",
   "execution_count": 27,
   "id": "9b111906",
   "metadata": {},
   "outputs": [],
   "source": [
    "X= data.drop(['profit'],axis =1)\n",
    "y = data['profit']"
   ]
  },
  {
   "cell_type": "code",
   "execution_count": 28,
   "id": "efe49f45",
   "metadata": {},
   "outputs": [
    {
     "data": {
      "image/png": "[encoded data removed]",
      "text/plain": [
       "<Figure size 640x480 with 1 Axes>"
      ]
     },
     "metadata": {},
     "output_type": "display_data"
    }
   ],
   "source": [
    "# Examining if the data is balanced or not\n",
    "sns.countplot(x=y)\n",
    "plt.show()"
   ]
  },
  {
   "cell_type": "markdown",
   "id": "d87a9c0b",
   "metadata": {},
   "source": [
    "### Balancing the data"
   ]
  },
  {
   "cell_type": "code",
   "execution_count": 29,
   "id": "a505a970",
   "metadata": {},
   "outputs": [],
   "source": [
    "from imblearn.over_sampling import SMOTE\n",
    "Smote = SMOTE()\n",
    "X_balanced,y_balanced = Smote.fit_resample(X,y)"
   ]
  },
  {
   "cell_type": "code",
   "execution_count": 30,
   "id": "5db11034",
   "metadata": {},
   "outputs": [
    {
     "data": {
      "image/png": "[encoded data removed]",
      "text/plain": [
       "<Figure size 640x480 with 1 Axes>"
      ]
     },
     "metadata": {},
     "output_type": "display_data"
    }
   ],
   "source": [
    "# Eaxming Balancing if the data\n",
    "sns.countplot(x=y_balanced)\n",
    "plt.show()"
   ]
  },
  {
   "cell_type": "markdown",
   "id": "6503cfc1",
   "metadata": {},
   "source": [
    "### Splitting the data into Train and test"
   ]
  },
  {
   "cell_type": "code",
   "execution_count": 31,
   "id": "826414da",
   "metadata": {},
   "outputs": [],
   "source": [
    "# splitting the data\n",
    "from sklearn.model_selection import train_test_split\n",
    "X_train,X_test,y_train,y_test = train_test_split(X_balanced,y_balanced,test_size=0.2,random_state=42)"
   ]
  },
  {
   "cell_type": "code",
   "execution_count": 32,
   "id": "ac221ac5",
   "metadata": {
    "scrolled": true
   },
   "outputs": [
    {
     "data": {
      "text/plain": [
       "(19035, 22)"
      ]
     },
     "execution_count": 32,
     "metadata": {},
     "output_type": "execute_result"
    }
   ],
   "source": [
    "X_train.shape"
   ]
  },
  {
   "cell_type": "code",
   "execution_count": 33,
   "id": "1195403a",
   "metadata": {},
   "outputs": [
    {
     "data": {
      "text/plain": [
       "(4759, 22)"
      ]
     },
     "execution_count": 33,
     "metadata": {},
     "output_type": "execute_result"
    }
   ],
   "source": [
    "X_test.shape"
   ]
  },
  {
   "cell_type": "markdown",
   "id": "e81ba9d3",
   "metadata": {},
   "source": [
    "### Logistic Regression Model Building"
   ]
  },
  {
   "cell_type": "code",
   "execution_count": 34,
   "id": "3815458a",
   "metadata": {},
   "outputs": [],
   "source": [
    "# importing logistic regression and RFE  \n",
    "from sklearn.linear_model import LogisticRegression\n",
    "from sklearn.feature_selection import RFE"
   ]
  },
  {
   "cell_type": "code",
   "execution_count": 35,
   "id": "07c93888",
   "metadata": {},
   "outputs": [],
   "source": [
    "estimate = LogisticRegression() # saving logistic regression into estimate"
   ]
  },
  {
   "cell_type": "code",
   "execution_count": 36,
   "id": "6185aced",
   "metadata": {},
   "outputs": [
    {
     "data": {
      "text/plain": [
       "RFE(estimator=LogisticRegression(), n_features_to_select=18)"
      ]
     },
     "execution_count": 36,
     "metadata": {},
     "output_type": "execute_result"
    }
   ],
   "source": [
    "# selecting the features by RFE \n",
    "selector = RFE(estimate,n_features_to_select= 18) # selection of 20 features is purely arbitrarily\n",
    "selector.fit(X_train,y_train)"
   ]
  },
  {
   "cell_type": "code",
   "execution_count": 37,
   "id": "1beec383",
   "metadata": {},
   "outputs": [],
   "source": [
    "# features selected by RFE \n",
    "col = X_train.columns[selector.support_]"
   ]
  },
  {
   "cell_type": "code",
   "execution_count": 38,
   "id": "69773b4a",
   "metadata": {},
   "outputs": [
    {
     "data": {
      "text/plain": [
       "18"
      ]
     },
     "execution_count": 38,
     "metadata": {},
     "output_type": "execute_result"
    }
   ],
   "source": [
    "len(col)"
   ]
  },
  {
   "cell_type": "code",
   "execution_count": 39,
   "id": "993c01a9",
   "metadata": {},
   "outputs": [],
   "source": [
    "# saving these columns in X_train and X_test\n",
    "X_train = X_train[col]\n",
    "X_test = X_test[col]"
   ]
  },
  {
   "cell_type": "code",
   "execution_count": 40,
   "id": "c296f51f",
   "metadata": {},
   "outputs": [],
   "source": [
    "# adding constant with X_train and X_test \n",
    "import statsmodels.api as sm\n",
    "X_train_sm = sm.add_constant(X_train,has_constant='add')\n",
    "X_test_sm = sm.add_constant(X_test,has_constant='add')"
   ]
  },
  {
   "cell_type": "code",
   "execution_count": 41,
   "id": "5dc74a29",
   "metadata": {},
   "outputs": [
    {
     "name": "stdout",
     "output_type": "stream",
     "text": [
      "                 Generalized Linear Model Regression Results                  \n",
      "==============================================================================\n",
      "Dep. Variable:                 profit   No. Observations:                19035\n",
      "Model:                            GLM   Df Residuals:                    19016\n",
      "Model Family:                Binomial   Df Model:                           18\n",
      "Link Function:                  Logit   Scale:                          1.0000\n",
      "Method:                          IRLS   Log-Likelihood:                -9100.3\n",
      "Date:                Thu, 07 Sep 2023   Deviance:                       18201.\n",
      "Time:                        17:42:25   Pearson chi2:                 1.65e+04\n",
      "No. Iterations:                    27   Pseudo R-squ. (CS):             0.3496\n",
      "Covariance Type:            nonrobust                                         \n",
      "=======================================================================================================\n",
      "                                          coef    std err          z      P>|z|      [0.025      0.975]\n",
      "-------------------------------------------------------------------------------------------------------\n",
      "const                                  -0.8768      0.134     -6.529      0.000      -1.140      -0.614\n",
      "past_3_years_bike_related_purchases     0.0019      0.001      2.863      0.004       0.001       0.003\n",
      "job_industry_category                  -0.0286      0.010     -2.937      0.003      -0.048      -0.010\n",
      "wealth_segment                         -0.1778      0.022     -8.008      0.000      -0.221      -0.134\n",
      "tenure                                  0.0028      0.004      0.771      0.441      -0.004       0.010\n",
      "Age                                    -0.0008      0.002     -0.482      0.630      -0.004       0.002\n",
      "product_id                              0.0060      0.001      9.498      0.000       0.005       0.007\n",
      "online_order                           -0.2974      0.036     -8.209      0.000      -0.368      -0.226\n",
      "brand                                   0.4133      0.012     34.011      0.000       0.389       0.437\n",
      "product_line                            0.8493      0.040     21.466      0.000       0.772       0.927\n",
      "property_valuation                     -0.0136      0.007     -1.940      0.052      -0.027       0.000\n",
      "owns_car_Yes                           -0.2610      0.036     -7.174      0.000      -0.332      -0.190\n",
      "product_class_low                       0.0340      0.067      0.510      0.610      -0.097       0.164\n",
      "product_class_medium                    0.5502      0.047     11.588      0.000       0.457       0.643\n",
      "product_size_medium                    -1.8361      0.047    -38.731      0.000      -1.929      -1.743\n",
      "product_size_small                    -30.1756    1.8e+04     -0.002      0.999   -3.53e+04    3.52e+04\n",
      "state_Queensland                       -0.0138      0.048     -0.290      0.772      -0.107       0.079\n",
      "gender_Male                            -0.3379      0.037     -9.207      0.000      -0.410      -0.266\n",
      "gender_Unspecified                     -0.2155      0.137     -1.573      0.116      -0.484       0.053\n",
      "=======================================================================================================\n"
     ]
    }
   ],
   "source": [
    "# fitting the model\n",
    "model = sm.GLM(y_train,X_train_sm,family=sm.families.Binomial())\n",
    "result = model.fit()\n",
    "print(result.summary())"
   ]
  },
  {
   "cell_type": "markdown",
   "id": "3ebeb16d",
   "metadata": {},
   "source": [
    "#### Dropping the columns whose pvalues greater than 0.05 as significance level is assumed to be 0.05."
   ]
  },
  {
   "cell_type": "code",
   "execution_count": 42,
   "id": "d11f27b8",
   "metadata": {},
   "outputs": [
    {
     "name": "stdout",
     "output_type": "stream",
     "text": [
      "                 Generalized Linear Model Regression Results                  \n",
      "==============================================================================\n",
      "Dep. Variable:                 profit   No. Observations:                19035\n",
      "Model:                            GLM   Df Residuals:                    19017\n",
      "Model Family:                Binomial   Df Model:                           17\n",
      "Link Function:                  Logit   Scale:                          1.0000\n",
      "Method:                          IRLS   Log-Likelihood:                -11452.\n",
      "Date:                Thu, 07 Sep 2023   Deviance:                       22905.\n",
      "Time:                        17:42:25   Pearson chi2:                 1.90e+04\n",
      "No. Iterations:                     4   Pseudo R-squ. (CS):             0.1672\n",
      "Covariance Type:            nonrobust                                         \n",
      "=======================================================================================================\n",
      "                                          coef    std err          z      P>|z|      [0.025      0.975]\n",
      "-------------------------------------------------------------------------------------------------------\n",
      "const                                  -1.8069      0.118    -15.317      0.000      -2.038      -1.576\n",
      "past_3_years_bike_related_purchases     0.0015      0.001      2.544      0.011       0.000       0.003\n",
      "job_industry_category                  -0.0309      0.009     -3.580      0.000      -0.048      -0.014\n",
      "wealth_segment                         -0.1970      0.019    -10.109      0.000      -0.235      -0.159\n",
      "tenure                                 -0.0002      0.003     -0.067      0.946      -0.007       0.006\n",
      "Age                                     0.0003      0.001      0.218      0.828      -0.003       0.003\n",
      "product_id                              0.0066      0.001     11.988      0.000       0.006       0.008\n",
      "online_order                           -0.3323      0.032    -10.404      0.000      -0.395      -0.270\n",
      "brand                                   0.3050      0.010     30.077      0.000       0.285       0.325\n",
      "product_line                            0.8914      0.034     26.315      0.000       0.825       0.958\n",
      "property_valuation                     -0.0184      0.006     -2.959      0.003      -0.031      -0.006\n",
      "owns_car_Yes                           -0.2927      0.032     -9.124      0.000      -0.356      -0.230\n",
      "product_class_low                      -0.4814      0.061     -7.834      0.000      -0.602      -0.361\n",
      "product_class_medium                    0.4189      0.043      9.778      0.000       0.335       0.503\n",
      "product_size_medium                    -0.4297      0.034    -12.684      0.000      -0.496      -0.363\n",
      "state_Queensland                       -0.0264      0.042     -0.630      0.529      -0.108       0.056\n",
      "gender_Male                            -0.3658      0.032    -11.288      0.000      -0.429      -0.302\n",
      "gender_Unspecified                     -0.3591      0.121     -2.973      0.003      -0.596      -0.122\n",
      "=======================================================================================================\n"
     ]
    }
   ],
   "source": [
    "# dropping product_size_small variable as pvalue is higher than 0.05\n",
    "X_train_sm.drop(['product_size_small'],axis = 1,inplace = True)\n",
    "X_test_sm.drop(['product_size_small'],axis = 1, inplace = True)\n",
    "model2 = sm.GLM(y_train,X_train_sm,family=sm.families.Binomial())\n",
    "res2 = model2.fit()\n",
    "print(res2.summary())"
   ]
  },
  {
   "cell_type": "code",
   "execution_count": 43,
   "id": "160d27d7",
   "metadata": {},
   "outputs": [
    {
     "ename": "KeyError",
     "evalue": "\"['postcode'] not found in axis\"",
     "output_type": "error",
     "traceback": [
      "\u001b[1;31m---------------------------------------------------------------------------\u001b[0m",
      "\u001b[1;31mKeyError\u001b[0m                                  Traceback (most recent call last)",
      "\u001b[1;32m~\\AppData\\Local\\Temp\\ipykernel_12492\\259288221.py\u001b[0m in \u001b[0;36m<module>\u001b[1;34m\u001b[0m\n\u001b[0;32m      1\u001b[0m \u001b[1;31m# now dropping the postcode\u001b[0m\u001b[1;33m\u001b[0m\u001b[1;33m\u001b[0m\u001b[0m\n\u001b[1;32m----> 2\u001b[1;33m \u001b[0mX_train_sm\u001b[0m\u001b[1;33m.\u001b[0m\u001b[0mdrop\u001b[0m\u001b[1;33m(\u001b[0m\u001b[1;33m[\u001b[0m\u001b[1;34m'postcode'\u001b[0m\u001b[1;33m]\u001b[0m\u001b[1;33m,\u001b[0m\u001b[0maxis\u001b[0m \u001b[1;33m=\u001b[0m \u001b[1;36m1\u001b[0m\u001b[1;33m,\u001b[0m\u001b[0minplace\u001b[0m \u001b[1;33m=\u001b[0m \u001b[1;32mTrue\u001b[0m\u001b[1;33m)\u001b[0m\u001b[1;33m\u001b[0m\u001b[1;33m\u001b[0m\u001b[0m\n\u001b[0m\u001b[0;32m      3\u001b[0m \u001b[0mX_test_sm\u001b[0m\u001b[1;33m.\u001b[0m\u001b[0mdrop\u001b[0m\u001b[1;33m(\u001b[0m\u001b[1;33m[\u001b[0m\u001b[1;34m'postcode'\u001b[0m\u001b[1;33m]\u001b[0m\u001b[1;33m,\u001b[0m\u001b[0maxis\u001b[0m \u001b[1;33m=\u001b[0m \u001b[1;36m1\u001b[0m\u001b[1;33m,\u001b[0m \u001b[0minplace\u001b[0m \u001b[1;33m=\u001b[0m \u001b[1;32mTrue\u001b[0m\u001b[1;33m)\u001b[0m\u001b[1;33m\u001b[0m\u001b[1;33m\u001b[0m\u001b[0m\n\u001b[0;32m      4\u001b[0m \u001b[0mmodel3\u001b[0m \u001b[1;33m=\u001b[0m \u001b[0msm\u001b[0m\u001b[1;33m.\u001b[0m\u001b[0mGLM\u001b[0m\u001b[1;33m(\u001b[0m\u001b[0my_train\u001b[0m\u001b[1;33m,\u001b[0m\u001b[0mX_train_sm\u001b[0m\u001b[1;33m,\u001b[0m\u001b[0mfamily\u001b[0m\u001b[1;33m=\u001b[0m\u001b[0msm\u001b[0m\u001b[1;33m.\u001b[0m\u001b[0mfamilies\u001b[0m\u001b[1;33m.\u001b[0m\u001b[0mBinomial\u001b[0m\u001b[1;33m(\u001b[0m\u001b[1;33m)\u001b[0m\u001b[1;33m)\u001b[0m\u001b[1;33m\u001b[0m\u001b[1;33m\u001b[0m\u001b[0m\n\u001b[0;32m      5\u001b[0m \u001b[0mres3\u001b[0m \u001b[1;33m=\u001b[0m \u001b[0mmodel3\u001b[0m\u001b[1;33m.\u001b[0m\u001b[0mfit\u001b[0m\u001b[1;33m(\u001b[0m\u001b[1;33m)\u001b[0m\u001b[1;33m\u001b[0m\u001b[1;33m\u001b[0m\u001b[0m\n",
      "\u001b[1;32m~\\anaconda3\\anaconda1\\lib\\site-packages\\pandas\\util\\_decorators.py\u001b[0m in \u001b[0;36mwrapper\u001b[1;34m(*args, **kwargs)\u001b[0m\n\u001b[0;32m    309\u001b[0m                     \u001b[0mstacklevel\u001b[0m\u001b[1;33m=\u001b[0m\u001b[0mstacklevel\u001b[0m\u001b[1;33m,\u001b[0m\u001b[1;33m\u001b[0m\u001b[1;33m\u001b[0m\u001b[0m\n\u001b[0;32m    310\u001b[0m                 )\n\u001b[1;32m--> 311\u001b[1;33m             \u001b[1;32mreturn\u001b[0m \u001b[0mfunc\u001b[0m\u001b[1;33m(\u001b[0m\u001b[1;33m*\u001b[0m\u001b[0margs\u001b[0m\u001b[1;33m,\u001b[0m \u001b[1;33m**\u001b[0m\u001b[0mkwargs\u001b[0m\u001b[1;33m)\u001b[0m\u001b[1;33m\u001b[0m\u001b[1;33m\u001b[0m\u001b[0m\n\u001b[0m\u001b[0;32m    312\u001b[0m \u001b[1;33m\u001b[0m\u001b[0m\n\u001b[0;32m    313\u001b[0m         \u001b[1;32mreturn\u001b[0m \u001b[0mwrapper\u001b[0m\u001b[1;33m\u001b[0m\u001b[1;33m\u001b[0m\u001b[0m\n",
      "\u001b[1;32m~\\anaconda3\\anaconda1\\lib\\site-packages\\pandas\\core\\frame.py\u001b[0m in \u001b[0;36mdrop\u001b[1;34m(self, labels, axis, index, columns, level, inplace, errors)\u001b[0m\n\u001b[0;32m   4955\u001b[0m                 \u001b[0mweight\u001b[0m  \u001b[1;36m1.0\u001b[0m     \u001b[1;36m0.8\u001b[0m\u001b[1;33m\u001b[0m\u001b[1;33m\u001b[0m\u001b[0m\n\u001b[0;32m   4956\u001b[0m         \"\"\"\n\u001b[1;32m-> 4957\u001b[1;33m         return super().drop(\n\u001b[0m\u001b[0;32m   4958\u001b[0m             \u001b[0mlabels\u001b[0m\u001b[1;33m=\u001b[0m\u001b[0mlabels\u001b[0m\u001b[1;33m,\u001b[0m\u001b[1;33m\u001b[0m\u001b[1;33m\u001b[0m\u001b[0m\n\u001b[0;32m   4959\u001b[0m             \u001b[0maxis\u001b[0m\u001b[1;33m=\u001b[0m\u001b[0maxis\u001b[0m\u001b[1;33m,\u001b[0m\u001b[1;33m\u001b[0m\u001b[1;33m\u001b[0m\u001b[0m\n",
      "\u001b[1;32m~\\anaconda3\\anaconda1\\lib\\site-packages\\pandas\\core\\generic.py\u001b[0m in \u001b[0;36mdrop\u001b[1;34m(self, labels, axis, index, columns, level, inplace, errors)\u001b[0m\n\u001b[0;32m   4265\u001b[0m         \u001b[1;32mfor\u001b[0m \u001b[0maxis\u001b[0m\u001b[1;33m,\u001b[0m \u001b[0mlabels\u001b[0m \u001b[1;32min\u001b[0m \u001b[0maxes\u001b[0m\u001b[1;33m.\u001b[0m\u001b[0mitems\u001b[0m\u001b[1;33m(\u001b[0m\u001b[1;33m)\u001b[0m\u001b[1;33m:\u001b[0m\u001b[1;33m\u001b[0m\u001b[1;33m\u001b[0m\u001b[0m\n\u001b[0;32m   4266\u001b[0m             \u001b[1;32mif\u001b[0m \u001b[0mlabels\u001b[0m \u001b[1;32mis\u001b[0m \u001b[1;32mnot\u001b[0m \u001b[1;32mNone\u001b[0m\u001b[1;33m:\u001b[0m\u001b[1;33m\u001b[0m\u001b[1;33m\u001b[0m\u001b[0m\n\u001b[1;32m-> 4267\u001b[1;33m                 \u001b[0mobj\u001b[0m \u001b[1;33m=\u001b[0m \u001b[0mobj\u001b[0m\u001b[1;33m.\u001b[0m\u001b[0m_drop_axis\u001b[0m\u001b[1;33m(\u001b[0m\u001b[0mlabels\u001b[0m\u001b[1;33m,\u001b[0m \u001b[0maxis\u001b[0m\u001b[1;33m,\u001b[0m \u001b[0mlevel\u001b[0m\u001b[1;33m=\u001b[0m\u001b[0mlevel\u001b[0m\u001b[1;33m,\u001b[0m \u001b[0merrors\u001b[0m\u001b[1;33m=\u001b[0m\u001b[0merrors\u001b[0m\u001b[1;33m)\u001b[0m\u001b[1;33m\u001b[0m\u001b[1;33m\u001b[0m\u001b[0m\n\u001b[0m\u001b[0;32m   4268\u001b[0m \u001b[1;33m\u001b[0m\u001b[0m\n\u001b[0;32m   4269\u001b[0m         \u001b[1;32mif\u001b[0m \u001b[0minplace\u001b[0m\u001b[1;33m:\u001b[0m\u001b[1;33m\u001b[0m\u001b[1;33m\u001b[0m\u001b[0m\n",
      "\u001b[1;32m~\\anaconda3\\anaconda1\\lib\\site-packages\\pandas\\core\\generic.py\u001b[0m in \u001b[0;36m_drop_axis\u001b[1;34m(self, labels, axis, level, errors, consolidate, only_slice)\u001b[0m\n\u001b[0;32m   4309\u001b[0m                 \u001b[0mnew_axis\u001b[0m \u001b[1;33m=\u001b[0m \u001b[0maxis\u001b[0m\u001b[1;33m.\u001b[0m\u001b[0mdrop\u001b[0m\u001b[1;33m(\u001b[0m\u001b[0mlabels\u001b[0m\u001b[1;33m,\u001b[0m \u001b[0mlevel\u001b[0m\u001b[1;33m=\u001b[0m\u001b[0mlevel\u001b[0m\u001b[1;33m,\u001b[0m \u001b[0merrors\u001b[0m\u001b[1;33m=\u001b[0m\u001b[0merrors\u001b[0m\u001b[1;33m)\u001b[0m\u001b[1;33m\u001b[0m\u001b[1;33m\u001b[0m\u001b[0m\n\u001b[0;32m   4310\u001b[0m             \u001b[1;32melse\u001b[0m\u001b[1;33m:\u001b[0m\u001b[1;33m\u001b[0m\u001b[1;33m\u001b[0m\u001b[0m\n\u001b[1;32m-> 4311\u001b[1;33m                 \u001b[0mnew_axis\u001b[0m \u001b[1;33m=\u001b[0m \u001b[0maxis\u001b[0m\u001b[1;33m.\u001b[0m\u001b[0mdrop\u001b[0m\u001b[1;33m(\u001b[0m\u001b[0mlabels\u001b[0m\u001b[1;33m,\u001b[0m \u001b[0merrors\u001b[0m\u001b[1;33m=\u001b[0m\u001b[0merrors\u001b[0m\u001b[1;33m)\u001b[0m\u001b[1;33m\u001b[0m\u001b[1;33m\u001b[0m\u001b[0m\n\u001b[0m\u001b[0;32m   4312\u001b[0m             \u001b[0mindexer\u001b[0m \u001b[1;33m=\u001b[0m \u001b[0maxis\u001b[0m\u001b[1;33m.\u001b[0m\u001b[0mget_indexer\u001b[0m\u001b[1;33m(\u001b[0m\u001b[0mnew_axis\u001b[0m\u001b[1;33m)\u001b[0m\u001b[1;33m\u001b[0m\u001b[1;33m\u001b[0m\u001b[0m\n\u001b[0;32m   4313\u001b[0m \u001b[1;33m\u001b[0m\u001b[0m\n",
      "\u001b[1;32m~\\anaconda3\\anaconda1\\lib\\site-packages\\pandas\\core\\indexes\\base.py\u001b[0m in \u001b[0;36mdrop\u001b[1;34m(self, labels, errors)\u001b[0m\n\u001b[0;32m   6659\u001b[0m         \u001b[1;32mif\u001b[0m \u001b[0mmask\u001b[0m\u001b[1;33m.\u001b[0m\u001b[0many\u001b[0m\u001b[1;33m(\u001b[0m\u001b[1;33m)\u001b[0m\u001b[1;33m:\u001b[0m\u001b[1;33m\u001b[0m\u001b[1;33m\u001b[0m\u001b[0m\n\u001b[0;32m   6660\u001b[0m             \u001b[1;32mif\u001b[0m \u001b[0merrors\u001b[0m \u001b[1;33m!=\u001b[0m \u001b[1;34m\"ignore\"\u001b[0m\u001b[1;33m:\u001b[0m\u001b[1;33m\u001b[0m\u001b[1;33m\u001b[0m\u001b[0m\n\u001b[1;32m-> 6661\u001b[1;33m                 \u001b[1;32mraise\u001b[0m \u001b[0mKeyError\u001b[0m\u001b[1;33m(\u001b[0m\u001b[1;34mf\"{list(labels[mask])} not found in axis\"\u001b[0m\u001b[1;33m)\u001b[0m\u001b[1;33m\u001b[0m\u001b[1;33m\u001b[0m\u001b[0m\n\u001b[0m\u001b[0;32m   6662\u001b[0m             \u001b[0mindexer\u001b[0m \u001b[1;33m=\u001b[0m \u001b[0mindexer\u001b[0m\u001b[1;33m[\u001b[0m\u001b[1;33m~\u001b[0m\u001b[0mmask\u001b[0m\u001b[1;33m]\u001b[0m\u001b[1;33m\u001b[0m\u001b[1;33m\u001b[0m\u001b[0m\n\u001b[0;32m   6663\u001b[0m         \u001b[1;32mreturn\u001b[0m \u001b[0mself\u001b[0m\u001b[1;33m.\u001b[0m\u001b[0mdelete\u001b[0m\u001b[1;33m(\u001b[0m\u001b[0mindexer\u001b[0m\u001b[1;33m)\u001b[0m\u001b[1;33m\u001b[0m\u001b[1;33m\u001b[0m\u001b[0m\n",
      "\u001b[1;31mKeyError\u001b[0m: \"['postcode'] not found in axis\""
     ]
    }
   ],
   "source": [
    "# now dropping the postcode\n",
    "X_train_sm.drop(['postcode'],axis = 1,inplace = True)\n",
    "X_test_sm.drop(['postcode'],axis = 1, inplace = True)\n",
    "model3 = sm.GLM(y_train,X_train_sm,family=sm.families.Binomial())\n",
    "res3 = model3.fit()\n",
    "print(res3.summary())"
   ]
  },
  {
   "cell_type": "code",
   "execution_count": 44,
   "id": "fee82c1a",
   "metadata": {},
   "outputs": [
    {
     "name": "stdout",
     "output_type": "stream",
     "text": [
      "                 Generalized Linear Model Regression Results                  \n",
      "==============================================================================\n",
      "Dep. Variable:                 profit   No. Observations:                19035\n",
      "Model:                            GLM   Df Residuals:                    19018\n",
      "Model Family:                Binomial   Df Model:                           16\n",
      "Link Function:                  Logit   Scale:                          1.0000\n",
      "Method:                          IRLS   Log-Likelihood:                -11452.\n",
      "Date:                Thu, 07 Sep 2023   Deviance:                       22905.\n",
      "Time:                        17:46:10   Pearson chi2:                 1.90e+04\n",
      "No. Iterations:                     4   Pseudo R-squ. (CS):             0.1672\n",
      "Covariance Type:            nonrobust                                         \n",
      "=======================================================================================================\n",
      "                                          coef    std err          z      P>|z|      [0.025      0.975]\n",
      "-------------------------------------------------------------------------------------------------------\n",
      "const                                  -1.8074      0.118    -15.364      0.000      -2.038      -1.577\n",
      "past_3_years_bike_related_purchases     0.0015      0.001      2.544      0.011       0.000       0.003\n",
      "job_industry_category                  -0.0309      0.009     -3.581      0.000      -0.048      -0.014\n",
      "wealth_segment                         -0.1971      0.019    -10.112      0.000      -0.235      -0.159\n",
      "Age                                     0.0003      0.001      0.209      0.834      -0.002       0.003\n",
      "product_id                              0.0066      0.001     11.988      0.000       0.006       0.008\n",
      "online_order                           -0.3323      0.032    -10.405      0.000      -0.395      -0.270\n",
      "brand                                   0.3050      0.010     30.077      0.000       0.285       0.325\n",
      "product_line                            0.8913      0.034     26.315      0.000       0.825       0.958\n",
      "property_valuation                     -0.0184      0.006     -2.958      0.003      -0.031      -0.006\n",
      "owns_car_Yes                           -0.2927      0.032     -9.125      0.000      -0.356      -0.230\n",
      "product_class_low                      -0.4815      0.061     -7.834      0.000      -0.602      -0.361\n",
      "product_class_medium                    0.4189      0.043      9.778      0.000       0.335       0.503\n",
      "product_size_medium                    -0.4297      0.034    -12.686      0.000      -0.496      -0.363\n",
      "state_Queensland                       -0.0264      0.042     -0.630      0.529      -0.108       0.056\n",
      "gender_Male                            -0.3658      0.032    -11.289      0.000      -0.429      -0.302\n",
      "gender_Unspecified                     -0.3591      0.121     -2.973      0.003      -0.596      -0.122\n",
      "=======================================================================================================\n"
     ]
    }
   ],
   "source": [
    "# now dropping tenure\n",
    "X_train_sm.drop(['tenure'],axis = 1,inplace = True)\n",
    "X_test_sm.drop(['tenure'],axis = 1, inplace = True)\n",
    "model9 = sm.GLM(y_train,X_train_sm,family=sm.families.Binomial())\n",
    "res9 = model9.fit()\n",
    "print(res9.summary())"
   ]
  },
  {
   "cell_type": "code",
   "execution_count": 45,
   "id": "4dcdf67b",
   "metadata": {},
   "outputs": [
    {
     "name": "stdout",
     "output_type": "stream",
     "text": [
      "                 Generalized Linear Model Regression Results                  \n",
      "==============================================================================\n",
      "Dep. Variable:                 profit   No. Observations:                19035\n",
      "Model:                            GLM   Df Residuals:                    19019\n",
      "Model Family:                Binomial   Df Model:                           15\n",
      "Link Function:                  Logit   Scale:                          1.0000\n",
      "Method:                          IRLS   Log-Likelihood:                -11452.\n",
      "Date:                Thu, 07 Sep 2023   Deviance:                       22905.\n",
      "Time:                        17:46:16   Pearson chi2:                 1.90e+04\n",
      "No. Iterations:                     4   Pseudo R-squ. (CS):             0.1672\n",
      "Covariance Type:            nonrobust                                         \n",
      "=======================================================================================================\n",
      "                                          coef    std err          z      P>|z|      [0.025      0.975]\n",
      "-------------------------------------------------------------------------------------------------------\n",
      "const                                  -1.8243      0.115    -15.924      0.000      -2.049      -1.600\n",
      "past_3_years_bike_related_purchases     0.0015      0.001      2.541      0.011       0.000       0.003\n",
      "job_industry_category                  -0.0308      0.009     -3.566      0.000      -0.048      -0.014\n",
      "wealth_segment                         -0.1968      0.019    -10.102      0.000      -0.235      -0.159\n",
      "Age                                     0.0003      0.001      0.214      0.831      -0.002       0.003\n",
      "product_id                              0.0066      0.001     11.981      0.000       0.006       0.008\n",
      "online_order                           -0.3323      0.032    -10.404      0.000      -0.395      -0.270\n",
      "brand                                   0.3051      0.010     30.087      0.000       0.285       0.325\n",
      "product_line                            0.8914      0.034     26.317      0.000       0.825       0.958\n",
      "property_valuation                     -0.0169      0.006     -2.937      0.003      -0.028      -0.006\n",
      "owns_car_Yes                           -0.2932      0.032     -9.144      0.000      -0.356      -0.230\n",
      "product_class_low                      -0.4818      0.061     -7.840      0.000      -0.602      -0.361\n",
      "product_class_medium                    0.4184      0.043      9.769      0.000       0.334       0.502\n",
      "product_size_medium                    -0.4298      0.034    -12.690      0.000      -0.496      -0.363\n",
      "gender_Male                            -0.3661      0.032    -11.300      0.000      -0.430      -0.303\n",
      "gender_Unspecified                     -0.3584      0.121     -2.967      0.003      -0.595      -0.122\n",
      "=======================================================================================================\n"
     ]
    }
   ],
   "source": [
    "# now dropping state_Queensland\n",
    "X_train_sm.drop(['state_Queensland'],axis = 1,inplace = True)\n",
    "X_test_sm.drop(['state_Queensland'],axis = 1, inplace = True)\n",
    "model9 = sm.GLM(y_train,X_train_sm,family=sm.families.Binomial())\n",
    "res9 = model9.fit()\n",
    "print(res9.summary())"
   ]
  },
  {
   "cell_type": "code",
   "execution_count": 46,
   "id": "ef7ecb4a",
   "metadata": {},
   "outputs": [
    {
     "name": "stdout",
     "output_type": "stream",
     "text": [
      "                 Generalized Linear Model Regression Results                  \n",
      "==============================================================================\n",
      "Dep. Variable:                 profit   No. Observations:                19035\n",
      "Model:                            GLM   Df Residuals:                    19020\n",
      "Model Family:                Binomial   Df Model:                           14\n",
      "Link Function:                  Logit   Scale:                          1.0000\n",
      "Method:                          IRLS   Log-Likelihood:                -11452.\n",
      "Date:                Thu, 07 Sep 2023   Deviance:                       22905.\n",
      "Time:                        17:46:24   Pearson chi2:                 1.90e+04\n",
      "No. Iterations:                     4   Pseudo R-squ. (CS):             0.1672\n",
      "Covariance Type:            nonrobust                                         \n",
      "=======================================================================================================\n",
      "                                          coef    std err          z      P>|z|      [0.025      0.975]\n",
      "-------------------------------------------------------------------------------------------------------\n",
      "const                                  -1.8134      0.102    -17.701      0.000      -2.014      -1.613\n",
      "past_3_years_bike_related_purchases     0.0015      0.001      2.535      0.011       0.000       0.003\n",
      "job_industry_category                  -0.0307      0.009     -3.562      0.000      -0.048      -0.014\n",
      "wealth_segment                         -0.1968      0.019    -10.100      0.000      -0.235      -0.159\n",
      "product_id                              0.0066      0.001     11.980      0.000       0.006       0.008\n",
      "online_order                           -0.3324      0.032    -10.406      0.000      -0.395      -0.270\n",
      "brand                                   0.3051      0.010     30.086      0.000       0.285       0.325\n",
      "product_line                            0.8915      0.034     26.321      0.000       0.825       0.958\n",
      "property_valuation                     -0.0169      0.006     -2.935      0.003      -0.028      -0.006\n",
      "owns_car_Yes                           -0.2932      0.032     -9.146      0.000      -0.356      -0.230\n",
      "product_class_low                      -0.4818      0.061     -7.839      0.000      -0.602      -0.361\n",
      "product_class_medium                    0.4184      0.043      9.769      0.000       0.334       0.502\n",
      "product_size_medium                    -0.4299      0.034    -12.691      0.000      -0.496      -0.363\n",
      "gender_Male                            -0.3662      0.032    -11.305      0.000      -0.430      -0.303\n",
      "gender_Unspecified                     -0.3578      0.121     -2.963      0.003      -0.595      -0.121\n",
      "=======================================================================================================\n"
     ]
    }
   ],
   "source": [
    "# dropping Age\n",
    "X_train_sm.drop(['Age'],axis = 1,inplace = True)\n",
    "X_test_sm.drop(['Age'],axis = 1, inplace = True)\n",
    "model6 = sm.GLM(y_train,X_train_sm,family=sm.families.Binomial())\n",
    "res6 = model6.fit()\n",
    "print(res6.summary())"
   ]
  },
  {
   "cell_type": "code",
   "execution_count": null,
   "id": "11717b0f",
   "metadata": {},
   "outputs": [],
   "source": [
    "# # now dropping job_industry_category\n",
    "# X_train_sm.drop(['job_industry_category'],axis = 1,inplace = True)\n",
    "# X_test_sm.drop(['job_industry_category'],axis = 1, inplace = True)\n",
    "# model7 = sm.GLM(y_train,X_train_sm,family=sm.families.Binomial())\n",
    "# res7 = model7.fit()\n",
    "# print(res7.summary())"
   ]
  },
  {
   "cell_type": "code",
   "execution_count": null,
   "id": "1551eb17",
   "metadata": {},
   "outputs": [],
   "source": [
    "# # now dropping postcode\n",
    "# X_train_sm.drop(['postcode'],axis = 1,inplace = True)\n",
    "# X_test_sm.drop(['postcode'],axis = 1, inplace = True)\n",
    "# model8 = sm.GLM(y_train,X_train_sm,family=sm.families.Binomial())\n",
    "# res8 = model8.fit()\n",
    "# print(res8.summary())"
   ]
  },
  {
   "cell_type": "code",
   "execution_count": null,
   "id": "f4cc9144",
   "metadata": {},
   "outputs": [],
   "source": [
    "# # now dropping state_Victoria \n",
    "# X_train_sm.drop(['state_Victoria'],axis = 1,inplace = True)\n",
    "# X_test_sm.drop(['state_Victoria'],axis = 1, inplace = True)\n",
    "# model9 = sm.GLM(y_train,X_train_sm,family=sm.families.Binomial())\n",
    "# res9 = model9.fit()\n",
    "# print(res9.summary())"
   ]
  },
  {
   "cell_type": "code",
   "execution_count": null,
   "id": "520fedf7",
   "metadata": {},
   "outputs": [],
   "source": [
    "# # now dropping state_Queensland\n",
    "# X_train_sm.drop(['state_Queensland'],axis = 1,inplace = True)\n",
    "# X_test_sm.drop(['state_Queensland'],axis = 1, inplace = True)\n",
    "# model10 = sm.GLM(y_train,X_train_sm,family=sm.families.Binomial())\n",
    "# res10 = model10.fit()\n",
    "# print(res10.summary())"
   ]
  },
  {
   "cell_type": "code",
   "execution_count": null,
   "id": "531a3e37",
   "metadata": {},
   "outputs": [],
   "source": [
    "# # dropping of tenure column\n",
    "# X_train_sm.drop(['tenure'],axis = 1,inplace = True)\n",
    "# X_test_sm.drop(['tenure'],axis = 1, inplace = True)\n",
    "# model11 = sm.GLM(y_train,X_train_sm,family=sm.families.Binomial())\n",
    "# res11 = model11.fit()\n",
    "# print(res11.summary())"
   ]
  },
  {
   "cell_type": "code",
   "execution_count": null,
   "id": "e9700c62",
   "metadata": {},
   "outputs": [],
   "source": [
    "# # dropping of Age variable\n",
    "# X_train_sm.drop(['Age'],axis = 1,inplace = True)\n",
    "# X_test_sm.drop(['Age'],axis = 1, inplace = True)\n",
    "# model12 = sm.GLM(y_train,X_train_sm,family=sm.families.Binomial())\n",
    "# res12 = model12.fit()\n",
    "# print(res12.summary())"
   ]
  },
  {
   "cell_type": "code",
   "execution_count": null,
   "id": "157a8eb1",
   "metadata": {},
   "outputs": [],
   "source": [
    "# # droppping gender_Unspecified\n",
    "# X_train_sm.drop(['gender_Unspecified'],axis = 1,inplace = True)\n",
    "# X_test_sm.drop(['gender_Unspecified'],axis = 1, inplace = True)\n",
    "# model13 = sm.GLM(y_train,X_train_sm,family=sm.families.Binomial())\n",
    "# res13 = model13.fit()\n",
    "# print(res13.summary())"
   ]
  },
  {
   "cell_type": "markdown",
   "id": "28dd455d",
   "metadata": {},
   "source": [
    "### Calculating the VIF for the rest of columns"
   ]
  },
  {
   "cell_type": "code",
   "execution_count": 47,
   "id": "d113d994",
   "metadata": {},
   "outputs": [
    {
     "data": {
      "text/html": [
       "<div>\n",
       "<style scoped>\n",
       "    .dataframe tbody tr th:only-of-type {\n",
       "        vertical-align: middle;\n",
       "    }\n",
       "\n",
       "    .dataframe tbody tr th {\n",
       "        vertical-align: top;\n",
       "    }\n",
       "\n",
       "    .dataframe thead th {\n",
       "        text-align: right;\n",
       "    }\n",
       "</style>\n",
       "<table border=\"1\" class=\"dataframe\">\n",
       "  <thead>\n",
       "    <tr style=\"text-align: right;\">\n",
       "      <th></th>\n",
       "      <th>Feature</th>\n",
       "      <th>VIF</th>\n",
       "    </tr>\n",
       "  </thead>\n",
       "  <tbody>\n",
       "    <tr>\n",
       "      <th>0</th>\n",
       "      <td>const</td>\n",
       "      <td>39.081646</td>\n",
       "    </tr>\n",
       "    <tr>\n",
       "      <th>10</th>\n",
       "      <td>product_class_low</td>\n",
       "      <td>1.630659</td>\n",
       "    </tr>\n",
       "    <tr>\n",
       "      <th>11</th>\n",
       "      <td>product_class_medium</td>\n",
       "      <td>1.608806</td>\n",
       "    </tr>\n",
       "    <tr>\n",
       "      <th>7</th>\n",
       "      <td>product_line</td>\n",
       "      <td>1.084492</td>\n",
       "    </tr>\n",
       "    <tr>\n",
       "      <th>6</th>\n",
       "      <td>brand</td>\n",
       "      <td>1.059974</td>\n",
       "    </tr>\n",
       "    <tr>\n",
       "      <th>4</th>\n",
       "      <td>product_id</td>\n",
       "      <td>1.043438</td>\n",
       "    </tr>\n",
       "    <tr>\n",
       "      <th>12</th>\n",
       "      <td>product_size_medium</td>\n",
       "      <td>1.037513</td>\n",
       "    </tr>\n",
       "    <tr>\n",
       "      <th>13</th>\n",
       "      <td>gender_Male</td>\n",
       "      <td>1.019748</td>\n",
       "    </tr>\n",
       "    <tr>\n",
       "      <th>14</th>\n",
       "      <td>gender_Unspecified</td>\n",
       "      <td>1.018202</td>\n",
       "    </tr>\n",
       "    <tr>\n",
       "      <th>9</th>\n",
       "      <td>owns_car_Yes</td>\n",
       "      <td>1.010307</td>\n",
       "    </tr>\n",
       "    <tr>\n",
       "      <th>8</th>\n",
       "      <td>property_valuation</td>\n",
       "      <td>1.006665</td>\n",
       "    </tr>\n",
       "    <tr>\n",
       "      <th>5</th>\n",
       "      <td>online_order</td>\n",
       "      <td>1.006341</td>\n",
       "    </tr>\n",
       "    <tr>\n",
       "      <th>2</th>\n",
       "      <td>job_industry_category</td>\n",
       "      <td>1.003360</td>\n",
       "    </tr>\n",
       "    <tr>\n",
       "      <th>1</th>\n",
       "      <td>past_3_years_bike_related_purchases</td>\n",
       "      <td>1.003050</td>\n",
       "    </tr>\n",
       "    <tr>\n",
       "      <th>3</th>\n",
       "      <td>wealth_segment</td>\n",
       "      <td>1.002977</td>\n",
       "    </tr>\n",
       "  </tbody>\n",
       "</table>\n",
       "</div>"
      ],
      "text/plain": [
       "                                Feature        VIF\n",
       "0                                 const  39.081646\n",
       "10                    product_class_low   1.630659\n",
       "11                 product_class_medium   1.608806\n",
       "7                          product_line   1.084492\n",
       "6                                 brand   1.059974\n",
       "4                            product_id   1.043438\n",
       "12                  product_size_medium   1.037513\n",
       "13                          gender_Male   1.019748\n",
       "14                   gender_Unspecified   1.018202\n",
       "9                          owns_car_Yes   1.010307\n",
       "8                    property_valuation   1.006665\n",
       "5                          online_order   1.006341\n",
       "2                 job_industry_category   1.003360\n",
       "1   past_3_years_bike_related_purchases   1.003050\n",
       "3                        wealth_segment   1.002977"
      ]
     },
     "execution_count": 47,
     "metadata": {},
     "output_type": "execute_result"
    }
   ],
   "source": [
    "# Calculating the VIF\n",
    "from statsmodels.stats.outliers_influence import variance_inflation_factor\n",
    "\n",
    "vif_data=pd.DataFrame()\n",
    "vif_data[\"Feature\"]=X_train_sm.columns\n",
    "\n",
    "vif_data[\"VIF\"]=[variance_inflation_factor(X_train_sm.values,i) for i in range(len(X_train_sm.columns))]\n",
    "vif_data.sort_values(by='VIF', ascending = False)"
   ]
  },
  {
   "cell_type": "markdown",
   "id": "7f38192d",
   "metadata": {},
   "source": [
    "### Predicting and Evaluating"
   ]
  },
  {
   "cell_type": "code",
   "execution_count": 48,
   "id": "ba58173f",
   "metadata": {},
   "outputs": [],
   "source": [
    "# Creating Data Frame Train\n",
    "train_pred=res6.predict(X_train_sm)\n",
    "train=pd.DataFrame(train_pred,columns=[\"predicted_probs\"])\n",
    "train[\"actual\"]=y_train\n",
    "train[\"predicted\"]=np.where(train[\"predicted_probs\"]>0.5,1,0)# by default 0.5"
   ]
  },
  {
   "cell_type": "code",
   "execution_count": 49,
   "id": "a03c63e8",
   "metadata": {},
   "outputs": [
    {
     "data": {
      "image/png": "[encoded data removed]",
      "text/plain": [
       "<Figure size 640x480 with 2 Axes>"
      ]
     },
     "metadata": {},
     "output_type": "display_data"
    }
   ],
   "source": [
    "# Creating Confusion Matrix\n",
    "from sklearn import metrics\n",
    "confusion_matrix=metrics.confusion_matrix(train[\"actual\"],train[\"predicted\"])\n",
    "cm_display=metrics.ConfusionMatrixDisplay(confusion_matrix=confusion_matrix,display_labels=[\"False\",\"True\"])\n",
    "cm_display.plot()\n",
    "plt.show()"
   ]
  },
  {
   "cell_type": "code",
   "execution_count": 50,
   "id": "3062990e",
   "metadata": {},
   "outputs": [
    {
     "name": "stdout",
     "output_type": "stream",
     "text": [
      "Train Accuracy: 67.74 %\n",
      "Train Recall: 68.27 %\n",
      "Train Precision: 67.68 %\n"
     ]
    }
   ],
   "source": [
    "# Printing the train accuracy, recall and precision\n",
    "print(\"Train Accuracy:\",round(metrics.accuracy_score(train[\"actual\"],train[\"predicted\"])*100,2),\"%\")\n",
    "print(\"Train Recall:\",round(metrics.recall_score(train[\"actual\"],train[\"predicted\"])*100,2),\"%\")\n",
    "print(\"Train Precision:\",round(metrics.precision_score(train[\"actual\"],train[\"predicted\"])*100,2),\"%\")"
   ]
  },
  {
   "cell_type": "code",
   "execution_count": 51,
   "id": "27ad009f",
   "metadata": {},
   "outputs": [],
   "source": [
    "# Creating Data Frame Test\n",
    "test_pred=res6.predict(X_test_sm)\n",
    "test=pd.DataFrame(test_pred,columns=[\"predicted_probs\"])\n",
    "test[\"actual\"]=y_test\n",
    "test[\"predicted\"]=np.where(test[\"predicted_probs\"]>0.5,1,0)# by default 0.5"
   ]
  },
  {
   "cell_type": "code",
   "execution_count": 52,
   "id": "12a3b9d2",
   "metadata": {},
   "outputs": [
    {
     "name": "stdout",
     "output_type": "stream",
     "text": [
      "Test Accuracy: 67.45 %\n",
      "Test Recall: 68.2 %\n",
      "Test Precision: 66.69 %\n"
     ]
    }
   ],
   "source": [
    "# Printing the test accuracy, recall and precision\n",
    "print(\"Test Accuracy:\",round(metrics.accuracy_score(test[\"actual\"],test[\"predicted\"])*100,2),\"%\")\n",
    "print(\"Test Recall:\",round(metrics.recall_score(test[\"actual\"],test[\"predicted\"])*100,2),\"%\")\n",
    "print(\"Test Precision:\",round(metrics.precision_score(test[\"actual\"],test[\"predicted\"])*100,2),\"%\")"
   ]
  },
  {
   "cell_type": "code",
   "execution_count": 53,
   "id": "be71ed72",
   "metadata": {},
   "outputs": [
    {
     "name": "stdout",
     "output_type": "stream",
     "text": [
      "roc_auc = 0.7369801161012806\n",
      "Auc_score =  0.7369801161012806\n"
     ]
    }
   ],
   "source": [
    "from sklearn.metrics import roc_curve, auc\n",
    "false_positive_rate, true_positive_rate, thresholds = roc_curve(y_test,test_pred)\n",
    "roc_auc = auc(false_positive_rate, true_positive_rate)\n",
    "auc_score = metrics.roc_auc_score(y_test,test_pred)\n",
    "print(\"roc_auc =\",roc_auc)\n",
    "print(\"Auc_score = \",auc_score)"
   ]
  },
  {
   "cell_type": "code",
   "execution_count": 54,
   "id": "ba879f1e",
   "metadata": {},
   "outputs": [
    {
     "data": {
      "text/plain": [
       "Text(0.5, 0, 'False Positive Rate')"
      ]
     },
     "execution_count": 54,
     "metadata": {},
     "output_type": "execute_result"
    },
    {
     "data": {
      "image/png": "[encoded data removed]",
      "text/plain": [
       "<Figure size 500x500 with 1 Axes>"
      ]
     },
     "metadata": {},
     "output_type": "display_data"
    }
   ],
   "source": [
    "import matplotlib.pyplot as plt\n",
    "plt.figure(figsize=(5,5))\n",
    "plt.title('Receiver Operating Characteristic')\n",
    "plt.plot(false_positive_rate,true_positive_rate, color='red',label = 'AUC = %0.2f' % roc_auc)\n",
    "plt.legend(loc = 'lower right')\n",
    "plt.plot([0, 1], [0, 1],linestyle='--')\n",
    "plt.axis('tight')\n",
    "plt.ylabel('True Positive Rate')\n",
    "plt.xlabel('False Positive Rate')"
   ]
  },
  {
   "cell_type": "markdown",
   "id": "207a4bdb",
   "metadata": {},
   "source": [
    "As the accuracy of the logistic regression for the train and test is quite good, hence the model is neither overfitted \n",
    "nor underfitted. "
   ]
  },
  {
   "cell_type": "markdown",
   "id": "66a7408c",
   "metadata": {},
   "source": [
    "## Decision-Tree Model Building"
   ]
  },
  {
   "cell_type": "markdown",
   "id": "e263dc9a",
   "metadata": {},
   "source": [
    "### Importing the Decision tree Classifier"
   ]
  },
  {
   "cell_type": "code",
   "execution_count": 55,
   "id": "8a57ca64",
   "metadata": {},
   "outputs": [],
   "source": [
    "from sklearn.tree import DecisionTreeClassifier # importing classifier"
   ]
  },
  {
   "cell_type": "code",
   "execution_count": 56,
   "id": "87a1df56",
   "metadata": {},
   "outputs": [],
   "source": [
    "dtree = DecisionTreeClassifier() # storing the DecisionTreeClassifier as dtree"
   ]
  },
  {
   "cell_type": "code",
   "execution_count": 57,
   "id": "2226bf51",
   "metadata": {},
   "outputs": [],
   "source": [
    "# importing necessary libraries\n",
    "from sklearn.model_selection import KFold\n",
    "from sklearn.model_selection import GridSearchCV \n",
    "#GridSearchCV is a technique for finding the optimal parameter values from a given set of parameters in a grid."
   ]
  },
  {
   "cell_type": "code",
   "execution_count": 58,
   "id": "46c5c38e",
   "metadata": {},
   "outputs": [],
   "source": [
    "# defining parameters for decision tree\n",
    "parametre = {\n",
    "    'criterion': ['gini', 'entropy'],\n",
    "    'max_depth': range(0,10),\n",
    "    'min_samples_split': range(0,10),\n",
    "    'min_samples_leaf': range(0,10)\n",
    "}"
   ]
  },
  {
   "cell_type": "code",
   "execution_count": 59,
   "id": "e4f2548f",
   "metadata": {},
   "outputs": [
    {
     "data": {
      "text/plain": [
       "GridSearchCV(cv=5, estimator=DecisionTreeClassifier(), n_jobs=-1,\n",
       "             param_grid={'criterion': ['gini', 'entropy'],\n",
       "                         'max_depth': range(0, 10),\n",
       "                         'min_samples_leaf': range(0, 10),\n",
       "                         'min_samples_split': range(0, 10)},\n",
       "             return_train_score=True, scoring='accuracy')"
      ]
     },
     "execution_count": 59,
     "metadata": {},
     "output_type": "execute_result"
    }
   ],
   "source": [
    "# using  and defining the gridsearchcv\n",
    "tree = GridSearchCV(dtree,parametre,cv= 5,scoring='accuracy',return_train_score=True, n_jobs = -1)\n",
    "tree"
   ]
  },
  {
   "cell_type": "code",
   "execution_count": 60,
   "id": "3e49fef7",
   "metadata": {},
   "outputs": [
    {
     "data": {
      "text/plain": [
       "GridSearchCV(cv=5, estimator=DecisionTreeClassifier(), n_jobs=-1,\n",
       "             param_grid={'criterion': ['gini', 'entropy'],\n",
       "                         'max_depth': range(0, 10),\n",
       "                         'min_samples_leaf': range(0, 10),\n",
       "                         'min_samples_split': range(0, 10)},\n",
       "             return_train_score=True, scoring='accuracy')"
      ]
     },
     "execution_count": 60,
     "metadata": {},
     "output_type": "execute_result"
    }
   ],
   "source": [
    "tree.fit(X_train,y_train) "
   ]
  },
  {
   "cell_type": "code",
   "execution_count": 61,
   "id": "23cef1bd",
   "metadata": {},
   "outputs": [],
   "source": [
    "tree_result = pd.DataFrame(tree.cv_results_)"
   ]
  },
  {
   "cell_type": "code",
   "execution_count": 62,
   "id": "fdd97341",
   "metadata": {},
   "outputs": [
    {
     "data": {
      "text/html": [
       "<div>\n",
       "<style scoped>\n",
       "    .dataframe tbody tr th:only-of-type {\n",
       "        vertical-align: middle;\n",
       "    }\n",
       "\n",
       "    .dataframe tbody tr th {\n",
       "        vertical-align: top;\n",
       "    }\n",
       "\n",
       "    .dataframe thead th {\n",
       "        text-align: right;\n",
       "    }\n",
       "</style>\n",
       "<table border=\"1\" class=\"dataframe\">\n",
       "  <thead>\n",
       "    <tr style=\"text-align: right;\">\n",
       "      <th></th>\n",
       "      <th>mean_fit_time</th>\n",
       "      <th>std_fit_time</th>\n",
       "      <th>mean_score_time</th>\n",
       "      <th>std_score_time</th>\n",
       "      <th>param_criterion</th>\n",
       "      <th>param_max_depth</th>\n",
       "      <th>param_min_samples_leaf</th>\n",
       "      <th>param_min_samples_split</th>\n",
       "      <th>params</th>\n",
       "      <th>split0_test_score</th>\n",
       "      <th>...</th>\n",
       "      <th>mean_test_score</th>\n",
       "      <th>std_test_score</th>\n",
       "      <th>rank_test_score</th>\n",
       "      <th>split0_train_score</th>\n",
       "      <th>split1_train_score</th>\n",
       "      <th>split2_train_score</th>\n",
       "      <th>split3_train_score</th>\n",
       "      <th>split4_train_score</th>\n",
       "      <th>mean_train_score</th>\n",
       "      <th>std_train_score</th>\n",
       "    </tr>\n",
       "  </thead>\n",
       "  <tbody>\n",
       "    <tr>\n",
       "      <th>0</th>\n",
       "      <td>0.018023</td>\n",
       "      <td>0.006954</td>\n",
       "      <td>0.0</td>\n",
       "      <td>0.0</td>\n",
       "      <td>gini</td>\n",
       "      <td>0</td>\n",
       "      <td>0</td>\n",
       "      <td>0</td>\n",
       "      <td>{'criterion': 'gini', 'max_depth': 0, 'min_sam...</td>\n",
       "      <td>NaN</td>\n",
       "      <td>...</td>\n",
       "      <td>NaN</td>\n",
       "      <td>NaN</td>\n",
       "      <td>2000</td>\n",
       "      <td>NaN</td>\n",
       "      <td>NaN</td>\n",
       "      <td>NaN</td>\n",
       "      <td>NaN</td>\n",
       "      <td>NaN</td>\n",
       "      <td>NaN</td>\n",
       "      <td>NaN</td>\n",
       "    </tr>\n",
       "    <tr>\n",
       "      <th>1</th>\n",
       "      <td>0.013480</td>\n",
       "      <td>0.004802</td>\n",
       "      <td>0.0</td>\n",
       "      <td>0.0</td>\n",
       "      <td>gini</td>\n",
       "      <td>0</td>\n",
       "      <td>0</td>\n",
       "      <td>1</td>\n",
       "      <td>{'criterion': 'gini', 'max_depth': 0, 'min_sam...</td>\n",
       "      <td>NaN</td>\n",
       "      <td>...</td>\n",
       "      <td>NaN</td>\n",
       "      <td>NaN</td>\n",
       "      <td>1351</td>\n",
       "      <td>NaN</td>\n",
       "      <td>NaN</td>\n",
       "      <td>NaN</td>\n",
       "      <td>NaN</td>\n",
       "      <td>NaN</td>\n",
       "      <td>NaN</td>\n",
       "      <td>NaN</td>\n",
       "    </tr>\n",
       "  </tbody>\n",
       "</table>\n",
       "<p>2 rows × 24 columns</p>\n",
       "</div>"
      ],
      "text/plain": [
       "   mean_fit_time  std_fit_time  mean_score_time  std_score_time  \\\n",
       "0       0.018023      0.006954              0.0             0.0   \n",
       "1       0.013480      0.004802              0.0             0.0   \n",
       "\n",
       "  param_criterion param_max_depth param_min_samples_leaf  \\\n",
       "0            gini               0                      0   \n",
       "1            gini               0                      0   \n",
       "\n",
       "  param_min_samples_split                                             params  \\\n",
       "0                       0  {'criterion': 'gini', 'max_depth': 0, 'min_sam...   \n",
       "1                       1  {'criterion': 'gini', 'max_depth': 0, 'min_sam...   \n",
       "\n",
       "   split0_test_score  ...  mean_test_score  std_test_score  rank_test_score  \\\n",
       "0                NaN  ...              NaN             NaN             2000   \n",
       "1                NaN  ...              NaN             NaN             1351   \n",
       "\n",
       "   split0_train_score  split1_train_score  split2_train_score  \\\n",
       "0                 NaN                 NaN                 NaN   \n",
       "1                 NaN                 NaN                 NaN   \n",
       "\n",
       "   split3_train_score  split4_train_score  mean_train_score  std_train_score  \n",
       "0                 NaN                 NaN               NaN              NaN  \n",
       "1                 NaN                 NaN               NaN              NaN  \n",
       "\n",
       "[2 rows x 24 columns]"
      ]
     },
     "execution_count": 62,
     "metadata": {},
     "output_type": "execute_result"
    }
   ],
   "source": [
    "tree_result.head(2)"
   ]
  },
  {
   "cell_type": "code",
   "execution_count": 63,
   "id": "abc22306",
   "metadata": {},
   "outputs": [
    {
     "data": {
      "text/plain": [
       "{'criterion': 'gini',\n",
       " 'max_depth': 9,\n",
       " 'min_samples_leaf': 2,\n",
       " 'min_samples_split': 2}"
      ]
     },
     "execution_count": 63,
     "metadata": {},
     "output_type": "execute_result"
    }
   ],
   "source": [
    "tree.best_params_"
   ]
  },
  {
   "cell_type": "code",
   "execution_count": 64,
   "id": "bfa094b0",
   "metadata": {},
   "outputs": [
    {
     "data": {
      "text/plain": [
       "0.9180982400840557"
      ]
     },
     "execution_count": 64,
     "metadata": {},
     "output_type": "execute_result"
    }
   ],
   "source": [
    "tree.best_score_"
   ]
  },
  {
   "cell_type": "code",
   "execution_count": 65,
   "id": "4a13d6e7",
   "metadata": {},
   "outputs": [],
   "source": [
    "best_tree = tree.best_estimator_"
   ]
  },
  {
   "cell_type": "code",
   "execution_count": 66,
   "id": "80435cb2",
   "metadata": {},
   "outputs": [
    {
     "data": {
      "text/plain": [
       "DecisionTreeClassifier(max_depth=9, min_samples_leaf=2)"
      ]
     },
     "execution_count": 66,
     "metadata": {},
     "output_type": "execute_result"
    }
   ],
   "source": [
    "best_tree"
   ]
  },
  {
   "cell_type": "code",
   "execution_count": 67,
   "id": "df997119",
   "metadata": {},
   "outputs": [
    {
     "data": {
      "text/plain": [
       "DecisionTreeClassifier(max_depth=9, min_samples_leaf=2)"
      ]
     },
     "execution_count": 67,
     "metadata": {},
     "output_type": "execute_result"
    }
   ],
   "source": [
    "best_tree.fit(X_train, y_train)"
   ]
  },
  {
   "cell_type": "code",
   "execution_count": null,
   "id": "d6354613",
   "metadata": {},
   "outputs": [],
   "source": []
  },
  {
   "cell_type": "code",
   "execution_count": 68,
   "id": "b363e928",
   "metadata": {},
   "outputs": [],
   "source": [
    "# predicting it on Test\n",
    "y_pred_test = best_tree.predict(X_test)"
   ]
  },
  {
   "cell_type": "code",
   "execution_count": 69,
   "id": "d6854846",
   "metadata": {},
   "outputs": [
    {
     "data": {
      "text/plain": [
       "0.913847446942635"
      ]
     },
     "execution_count": 69,
     "metadata": {},
     "output_type": "execute_result"
    }
   ],
   "source": [
    "# checking the accuracy for test dataset\n",
    "metrics.accuracy_score(y_test,y_pred_test)"
   ]
  },
  {
   "cell_type": "code",
   "execution_count": 70,
   "id": "d7bff6a7",
   "metadata": {},
   "outputs": [],
   "source": [
    "# predicting it on train dataset\n",
    "y_prob_train = best_tree.predict(X_train)"
   ]
  },
  {
   "cell_type": "code",
   "execution_count": 71,
   "id": "72f7b46a",
   "metadata": {},
   "outputs": [
    {
     "data": {
      "text/plain": [
       "0.9130023640661938"
      ]
     },
     "execution_count": 71,
     "metadata": {},
     "output_type": "execute_result"
    }
   ],
   "source": [
    "# checking the accuracy for train dataset\n",
    "metrics.accuracy_score(y_train,y_prob_train)"
   ]
  },
  {
   "cell_type": "markdown",
   "id": "316a17fc",
   "metadata": {},
   "source": [
    "### Drawing Roc/Auc Curve"
   ]
  },
  {
   "cell_type": "code",
   "execution_count": 72,
   "id": "25218e78",
   "metadata": {},
   "outputs": [
    {
     "name": "stdout",
     "output_type": "stream",
     "text": [
      "roc_auc = 0.914127392751866\n",
      "Auc_score =  0.914127392751866\n"
     ]
    }
   ],
   "source": [
    "# checking with Roc/Auc score\n",
    "false_positive_rate, true_positive_rate, thresholds = roc_curve(y_test,y_pred_test)\n",
    "roc_auc = auc(false_positive_rate, true_positive_rate)\n",
    "auc_score = metrics.roc_auc_score(y_test,y_pred_test)\n",
    "print(\"roc_auc =\",roc_auc)\n",
    "print(\"Auc_score = \",auc_score)"
   ]
  },
  {
   "cell_type": "code",
   "execution_count": 73,
   "id": "6ef73677",
   "metadata": {},
   "outputs": [
    {
     "data": {
      "text/plain": [
       "Text(0.5, 0, 'False Positive Rate')"
      ]
     },
     "execution_count": 73,
     "metadata": {},
     "output_type": "execute_result"
    },
    {
     "data": {
      "image/png": "[encoded data removed]",
      "text/plain": [
       "<Figure size 500x500 with 1 Axes>"
      ]
     },
     "metadata": {},
     "output_type": "display_data"
    }
   ],
   "source": [
    "# plotting the curve\n",
    "import matplotlib.pyplot as plt\n",
    "plt.figure(figsize=(5,5))\n",
    "plt.title('Receiver Operating Characteristic')\n",
    "plt.plot(false_positive_rate,true_positive_rate, color='red',label = 'AUC = %0.2f' % roc_auc)\n",
    "plt.legend(loc = 'lower right')\n",
    "plt.plot([0, 1], [0, 1],linestyle='--')\n",
    "plt.axis('tight')\n",
    "plt.ylabel('True Positive Rate')\n",
    "plt.xlabel('False Positive Rate')"
   ]
  },
  {
   "cell_type": "markdown",
   "id": "95f12c0f",
   "metadata": {},
   "source": [
    "### Random Forest Model Building"
   ]
  },
  {
   "cell_type": "markdown",
   "id": "eba1abbe",
   "metadata": {},
   "source": [
    "### Importing RandomForestClassifier"
   ]
  },
  {
   "cell_type": "code",
   "execution_count": 74,
   "id": "5cc51d81",
   "metadata": {},
   "outputs": [],
   "source": [
    "from sklearn.ensemble import RandomForestClassifier # importing"
   ]
  },
  {
   "cell_type": "code",
   "execution_count": 75,
   "id": "2dbc1d8e",
   "metadata": {},
   "outputs": [
    {
     "data": {
      "text/plain": [
       "RandomForestClassifier(random_state=42)"
      ]
     },
     "execution_count": 75,
     "metadata": {},
     "output_type": "execute_result"
    }
   ],
   "source": [
    "# fitting the model\n",
    "Model_RFC = RandomForestClassifier(random_state=42)\n",
    "Model_RFC.fit(X_train,y_train)"
   ]
  },
  {
   "cell_type": "markdown",
   "id": "befa5fa8",
   "metadata": {},
   "source": [
    "### Training the data"
   ]
  },
  {
   "cell_type": "code",
   "execution_count": 76,
   "id": "6b25af39",
   "metadata": {},
   "outputs": [],
   "source": [
    "# defining the parameters\n",
    "parametre_ran={\n",
    "      'n_estimators': range(0,10),\n",
    "    'max_depth': range(0,5),\n",
    "    'min_samples_split': range(0,5),\n",
    "    'min_samples_leaf': range(0,5),\n",
    "    'max_features': ['auto', 'sqrt', 'log2'],\n",
    "    'criterion': ['gini', 'entropy'],\n",
    "    'bootstrap': [True, False]\n",
    "}"
   ]
  },
  {
   "cell_type": "code",
   "execution_count": 77,
   "id": "3c229b51",
   "metadata": {},
   "outputs": [],
   "source": [
    "# using GridSearchCV to use defined parameters in training the models\n",
    "grid_random = GridSearchCV(Model_RFC,parametre_ran,cv= 5,scoring='accuracy',return_train_score=True, n_jobs = -1)"
   ]
  },
  {
   "cell_type": "code",
   "execution_count": 78,
   "id": "09179b50",
   "metadata": {},
   "outputs": [
    {
     "data": {
      "text/plain": [
       "GridSearchCV(cv=5, estimator=RandomForestClassifier(random_state=42), n_jobs=-1,\n",
       "             param_grid={'bootstrap': [True, False],\n",
       "                         'criterion': ['gini', 'entropy'],\n",
       "                         'max_depth': range(0, 5),\n",
       "                         'max_features': ['auto', 'sqrt', 'log2'],\n",
       "                         'min_samples_leaf': range(0, 5),\n",
       "                         'min_samples_split': range(0, 5),\n",
       "                         'n_estimators': range(0, 10)},\n",
       "             return_train_score=True, scoring='accuracy')"
      ]
     },
     "execution_count": 78,
     "metadata": {},
     "output_type": "execute_result"
    }
   ],
   "source": [
    "# fitting the model with defined parameters\n",
    "grid_random.fit(X_train,y_train)"
   ]
  },
  {
   "cell_type": "code",
   "execution_count": 79,
   "id": "337654bf",
   "metadata": {},
   "outputs": [],
   "source": [
    "rf_result = pd.DataFrame(grid_random.cv_results_)"
   ]
  },
  {
   "cell_type": "code",
   "execution_count": 80,
   "id": "da7df9fe",
   "metadata": {},
   "outputs": [
    {
     "data": {
      "text/plain": [
       "RandomForestClassifier(bootstrap=False, max_depth=4, n_estimators=9,\n",
       "                       random_state=42)"
      ]
     },
     "execution_count": 80,
     "metadata": {},
     "output_type": "execute_result"
    }
   ],
   "source": [
    "best_rf = grid_random.best_estimator_\n",
    "best_rf"
   ]
  },
  {
   "cell_type": "code",
   "execution_count": 81,
   "id": "cc752650",
   "metadata": {},
   "outputs": [
    {
     "data": {
      "text/plain": [
       "RandomForestClassifier(bootstrap=False, max_depth=4, n_estimators=9,\n",
       "                       random_state=42)"
      ]
     },
     "execution_count": 81,
     "metadata": {},
     "output_type": "execute_result"
    }
   ],
   "source": [
    "best_rf.fit(X_train, y_train)"
   ]
  },
  {
   "cell_type": "code",
   "execution_count": null,
   "id": "e83c76cc",
   "metadata": {},
   "outputs": [],
   "source": []
  },
  {
   "cell_type": "markdown",
   "id": "7ce54541",
   "metadata": {},
   "source": [
    "### Predicting And Evaluating"
   ]
  },
  {
   "cell_type": "code",
   "execution_count": 82,
   "id": "e2e7d9d1",
   "metadata": {},
   "outputs": [],
   "source": [
    "# predicting the test dataset\n",
    "y_pred_random = best_rf.predict(X_test)"
   ]
  },
  {
   "cell_type": "code",
   "execution_count": 83,
   "id": "e5717fe4",
   "metadata": {},
   "outputs": [
    {
     "data": {
      "text/plain": [
       "0.8075225887791553"
      ]
     },
     "execution_count": 83,
     "metadata": {},
     "output_type": "execute_result"
    }
   ],
   "source": [
    "# evaluating model performance on test dataset\n",
    "metrics.accuracy_score(y_test,y_pred_random)"
   ]
  },
  {
   "cell_type": "code",
   "execution_count": 84,
   "id": "806f5e93",
   "metadata": {},
   "outputs": [],
   "source": [
    "# predicting on train data\n",
    "y_pred_random_t = grid_random.predict(X_train)"
   ]
  },
  {
   "cell_type": "code",
   "execution_count": 85,
   "id": "18a0fd99",
   "metadata": {},
   "outputs": [
    {
     "data": {
      "text/plain": [
       "0.8065143157341739"
      ]
     },
     "execution_count": 85,
     "metadata": {},
     "output_type": "execute_result"
    }
   ],
   "source": [
    "# evaluating model performance on train dataset\n",
    "metrics.accuracy_score(y_train,y_pred_random_t)"
   ]
  },
  {
   "cell_type": "markdown",
   "id": "e332bd00",
   "metadata": {},
   "source": [
    "### Drawing Roc/Auc curve"
   ]
  },
  {
   "cell_type": "code",
   "execution_count": 86,
   "id": "a79fcc93",
   "metadata": {},
   "outputs": [
    {
     "name": "stdout",
     "output_type": "stream",
     "text": [
      "roc_auc = 0.8087889912924039\n",
      "Auc_score =  0.8087889912924039\n"
     ]
    }
   ],
   "source": [
    "# checking the Roc/Auc score\n",
    "false_positive_rate, true_positive_rate, thresholds = roc_curve(y_test,y_pred_random)\n",
    "roc_auc = auc(false_positive_rate, true_positive_rate)\n",
    "auc_score = metrics.roc_auc_score(y_test,y_pred_random)\n",
    "print(\"roc_auc =\",roc_auc)\n",
    "print(\"Auc_score = \",auc_score)"
   ]
  },
  {
   "cell_type": "code",
   "execution_count": 87,
   "id": "3ed7dab0",
   "metadata": {},
   "outputs": [
    {
     "data": {
      "text/plain": [
       "Text(0.5, 0, 'False Positive Rate')"
      ]
     },
     "execution_count": 87,
     "metadata": {},
     "output_type": "execute_result"
    },
    {
     "data": {
      "image/png": "[encoded data removed]",
      "text/plain": [
       "<Figure size 500x500 with 1 Axes>"
      ]
     },
     "metadata": {},
     "output_type": "display_data"
    }
   ],
   "source": [
    "# plotting the Roc/Auc curve\n",
    "import matplotlib.pyplot as plt\n",
    "plt.figure(figsize=(5,5))\n",
    "plt.title('Receiver Operating Characteristic')\n",
    "plt.plot(false_positive_rate,true_positive_rate, color='red',label = 'AUC = %0.2f' % roc_auc)\n",
    "plt.legend(loc = 'lower right')\n",
    "plt.plot([0, 1], [0, 1],linestyle='--')\n",
    "plt.axis('tight')\n",
    "plt.ylabel('True Positive Rate')\n",
    "plt.xlabel('False Positive Rate')"
   ]
  },
  {
   "cell_type": "markdown",
   "id": "d067f8ae",
   "metadata": {},
   "source": [
    "### Reverse Engineering"
   ]
  },
  {
   "cell_type": "code",
   "execution_count": 88,
   "id": "ee0393c4",
   "metadata": {},
   "outputs": [
    {
     "data": {
      "text/plain": [
       "numpy.ndarray"
      ]
     },
     "execution_count": 88,
     "metadata": {},
     "output_type": "execute_result"
    }
   ],
   "source": [
    "type(y_pred_test)"
   ]
  },
  {
   "cell_type": "code",
   "execution_count": 89,
   "id": "6f158635",
   "metadata": {},
   "outputs": [],
   "source": [
    "test_data= pd.DataFrame(y_pred_test)"
   ]
  },
  {
   "cell_type": "code",
   "execution_count": 90,
   "id": "b34c6405",
   "metadata": {},
   "outputs": [
    {
     "data": {
      "text/html": [
       "<div>\n",
       "<style scoped>\n",
       "    .dataframe tbody tr th:only-of-type {\n",
       "        vertical-align: middle;\n",
       "    }\n",
       "\n",
       "    .dataframe tbody tr th {\n",
       "        vertical-align: top;\n",
       "    }\n",
       "\n",
       "    .dataframe thead th {\n",
       "        text-align: right;\n",
       "    }\n",
       "</style>\n",
       "<table border=\"1\" class=\"dataframe\">\n",
       "  <thead>\n",
       "    <tr style=\"text-align: right;\">\n",
       "      <th></th>\n",
       "      <th>0</th>\n",
       "    </tr>\n",
       "  </thead>\n",
       "  <tbody>\n",
       "    <tr>\n",
       "      <th>0</th>\n",
       "      <td>1</td>\n",
       "    </tr>\n",
       "    <tr>\n",
       "      <th>1</th>\n",
       "      <td>1</td>\n",
       "    </tr>\n",
       "    <tr>\n",
       "      <th>2</th>\n",
       "      <td>0</td>\n",
       "    </tr>\n",
       "    <tr>\n",
       "      <th>3</th>\n",
       "      <td>1</td>\n",
       "    </tr>\n",
       "    <tr>\n",
       "      <th>4</th>\n",
       "      <td>1</td>\n",
       "    </tr>\n",
       "    <tr>\n",
       "      <th>...</th>\n",
       "      <td>...</td>\n",
       "    </tr>\n",
       "    <tr>\n",
       "      <th>19030</th>\n",
       "      <td>1</td>\n",
       "    </tr>\n",
       "    <tr>\n",
       "      <th>19031</th>\n",
       "      <td>1</td>\n",
       "    </tr>\n",
       "    <tr>\n",
       "      <th>19032</th>\n",
       "      <td>0</td>\n",
       "    </tr>\n",
       "    <tr>\n",
       "      <th>19033</th>\n",
       "      <td>1</td>\n",
       "    </tr>\n",
       "    <tr>\n",
       "      <th>19034</th>\n",
       "      <td>1</td>\n",
       "    </tr>\n",
       "  </tbody>\n",
       "</table>\n",
       "<p>19035 rows × 1 columns</p>\n",
       "</div>"
      ],
      "text/plain": [
       "       0\n",
       "0      1\n",
       "1      1\n",
       "2      0\n",
       "3      1\n",
       "4      1\n",
       "...   ..\n",
       "19030  1\n",
       "19031  1\n",
       "19032  0\n",
       "19033  1\n",
       "19034  1\n",
       "\n",
       "[19035 rows x 1 columns]"
      ]
     },
     "execution_count": 90,
     "metadata": {},
     "output_type": "execute_result"
    }
   ],
   "source": [
    "train_data = pd.DataFrame(y_prob_train)\n",
    "train_data"
   ]
  },
  {
   "cell_type": "code",
   "execution_count": 91,
   "id": "4cf946ec",
   "metadata": {},
   "outputs": [],
   "source": [
    "combined = pd.concat([train_data,test_data]) # concating the train and test data"
   ]
  },
  {
   "cell_type": "code",
   "execution_count": 92,
   "id": "fa893b6a",
   "metadata": {},
   "outputs": [],
   "source": [
    "combined = combined.reset_index(drop=True)"
   ]
  },
  {
   "cell_type": "code",
   "execution_count": 93,
   "id": "35306e99",
   "metadata": {},
   "outputs": [],
   "source": [
    "DataFrame['Predicted'] = combined"
   ]
  },
  {
   "cell_type": "code",
   "execution_count": 94,
   "id": "821356e8",
   "metadata": {},
   "outputs": [
    {
     "data": {
      "text/html": [
       "<div>\n",
       "<style scoped>\n",
       "    .dataframe tbody tr th:only-of-type {\n",
       "        vertical-align: middle;\n",
       "    }\n",
       "\n",
       "    .dataframe tbody tr th {\n",
       "        vertical-align: top;\n",
       "    }\n",
       "\n",
       "    .dataframe thead th {\n",
       "        text-align: right;\n",
       "    }\n",
       "</style>\n",
       "<table border=\"1\" class=\"dataframe\">\n",
       "  <thead>\n",
       "    <tr style=\"text-align: right;\">\n",
       "      <th></th>\n",
       "      <th>customer_id</th>\n",
       "      <th>first_name</th>\n",
       "      <th>last_name</th>\n",
       "      <th>gender</th>\n",
       "      <th>past_3_years_bike_related_purchases</th>\n",
       "      <th>DOB</th>\n",
       "      <th>job_title</th>\n",
       "      <th>job_industry_category</th>\n",
       "      <th>wealth_segment</th>\n",
       "      <th>deceased_indicator</th>\n",
       "      <th>...</th>\n",
       "      <th>product_size</th>\n",
       "      <th>list_price</th>\n",
       "      <th>standard_cost</th>\n",
       "      <th>product_first_sold_date</th>\n",
       "      <th>address</th>\n",
       "      <th>postcode</th>\n",
       "      <th>state</th>\n",
       "      <th>country</th>\n",
       "      <th>property_valuation</th>\n",
       "      <th>Predicted</th>\n",
       "    </tr>\n",
       "  </thead>\n",
       "  <tbody>\n",
       "    <tr>\n",
       "      <th>0</th>\n",
       "      <td>1</td>\n",
       "      <td>Laraine</td>\n",
       "      <td>Medendorp</td>\n",
       "      <td>Female</td>\n",
       "      <td>93</td>\n",
       "      <td>1953-10-12</td>\n",
       "      <td>Executive Secretary</td>\n",
       "      <td>Health</td>\n",
       "      <td>Mass Customer</td>\n",
       "      <td>N</td>\n",
       "      <td>...</td>\n",
       "      <td>medium</td>\n",
       "      <td>235.63</td>\n",
       "      <td>125.07</td>\n",
       "      <td>38482</td>\n",
       "      <td>060 Morning Avenue</td>\n",
       "      <td>2016</td>\n",
       "      <td>New South Wales</td>\n",
       "      <td>Australia</td>\n",
       "      <td>10</td>\n",
       "      <td>1</td>\n",
       "    </tr>\n",
       "    <tr>\n",
       "      <th>1</th>\n",
       "      <td>1</td>\n",
       "      <td>Laraine</td>\n",
       "      <td>Medendorp</td>\n",
       "      <td>Female</td>\n",
       "      <td>93</td>\n",
       "      <td>1953-10-12</td>\n",
       "      <td>Executive Secretary</td>\n",
       "      <td>Health</td>\n",
       "      <td>Mass Customer</td>\n",
       "      <td>N</td>\n",
       "      <td>...</td>\n",
       "      <td>medium</td>\n",
       "      <td>1577.53</td>\n",
       "      <td>826.51</td>\n",
       "      <td>39526</td>\n",
       "      <td>060 Morning Avenue</td>\n",
       "      <td>2016</td>\n",
       "      <td>New South Wales</td>\n",
       "      <td>Australia</td>\n",
       "      <td>10</td>\n",
       "      <td>1</td>\n",
       "    </tr>\n",
       "    <tr>\n",
       "      <th>2</th>\n",
       "      <td>1</td>\n",
       "      <td>Laraine</td>\n",
       "      <td>Medendorp</td>\n",
       "      <td>Female</td>\n",
       "      <td>93</td>\n",
       "      <td>1953-10-12</td>\n",
       "      <td>Executive Secretary</td>\n",
       "      <td>Health</td>\n",
       "      <td>Mass Customer</td>\n",
       "      <td>N</td>\n",
       "      <td>...</td>\n",
       "      <td>small</td>\n",
       "      <td>1720.70</td>\n",
       "      <td>1531.42</td>\n",
       "      <td>37823</td>\n",
       "      <td>060 Morning Avenue</td>\n",
       "      <td>2016</td>\n",
       "      <td>New South Wales</td>\n",
       "      <td>Australia</td>\n",
       "      <td>10</td>\n",
       "      <td>0</td>\n",
       "    </tr>\n",
       "    <tr>\n",
       "      <th>3</th>\n",
       "      <td>1</td>\n",
       "      <td>Laraine</td>\n",
       "      <td>Medendorp</td>\n",
       "      <td>Female</td>\n",
       "      <td>93</td>\n",
       "      <td>1953-10-12</td>\n",
       "      <td>Executive Secretary</td>\n",
       "      <td>Health</td>\n",
       "      <td>Mass Customer</td>\n",
       "      <td>N</td>\n",
       "      <td>...</td>\n",
       "      <td>medium</td>\n",
       "      <td>360.40</td>\n",
       "      <td>270.30</td>\n",
       "      <td>37873</td>\n",
       "      <td>060 Morning Avenue</td>\n",
       "      <td>2016</td>\n",
       "      <td>New South Wales</td>\n",
       "      <td>Australia</td>\n",
       "      <td>10</td>\n",
       "      <td>1</td>\n",
       "    </tr>\n",
       "    <tr>\n",
       "      <th>4</th>\n",
       "      <td>1</td>\n",
       "      <td>Laraine</td>\n",
       "      <td>Medendorp</td>\n",
       "      <td>Female</td>\n",
       "      <td>93</td>\n",
       "      <td>1953-10-12</td>\n",
       "      <td>Executive Secretary</td>\n",
       "      <td>Health</td>\n",
       "      <td>Mass Customer</td>\n",
       "      <td>N</td>\n",
       "      <td>...</td>\n",
       "      <td>medium</td>\n",
       "      <td>71.49</td>\n",
       "      <td>53.62</td>\n",
       "      <td>38573</td>\n",
       "      <td>060 Morning Avenue</td>\n",
       "      <td>2016</td>\n",
       "      <td>New South Wales</td>\n",
       "      <td>Australia</td>\n",
       "      <td>10</td>\n",
       "      <td>1</td>\n",
       "    </tr>\n",
       "  </tbody>\n",
       "</table>\n",
       "<p>5 rows × 31 columns</p>\n",
       "</div>"
      ],
      "text/plain": [
       "   customer_id first_name  last_name  gender  \\\n",
       "0            1    Laraine  Medendorp  Female   \n",
       "1            1    Laraine  Medendorp  Female   \n",
       "2            1    Laraine  Medendorp  Female   \n",
       "3            1    Laraine  Medendorp  Female   \n",
       "4            1    Laraine  Medendorp  Female   \n",
       "\n",
       "   past_3_years_bike_related_purchases        DOB            job_title  \\\n",
       "0                                   93 1953-10-12  Executive Secretary   \n",
       "1                                   93 1953-10-12  Executive Secretary   \n",
       "2                                   93 1953-10-12  Executive Secretary   \n",
       "3                                   93 1953-10-12  Executive Secretary   \n",
       "4                                   93 1953-10-12  Executive Secretary   \n",
       "\n",
       "  job_industry_category wealth_segment deceased_indicator  ... product_size  \\\n",
       "0                Health  Mass Customer                  N  ...       medium   \n",
       "1                Health  Mass Customer                  N  ...       medium   \n",
       "2                Health  Mass Customer                  N  ...        small   \n",
       "3                Health  Mass Customer                  N  ...       medium   \n",
       "4                Health  Mass Customer                  N  ...       medium   \n",
       "\n",
       "   list_price  standard_cost  product_first_sold_date             address  \\\n",
       "0      235.63         125.07                    38482  060 Morning Avenue   \n",
       "1     1577.53         826.51                    39526  060 Morning Avenue   \n",
       "2     1720.70        1531.42                    37823  060 Morning Avenue   \n",
       "3      360.40         270.30                    37873  060 Morning Avenue   \n",
       "4       71.49          53.62                    38573  060 Morning Avenue   \n",
       "\n",
       "  postcode            state    country property_valuation Predicted  \n",
       "0     2016  New South Wales  Australia                 10         1  \n",
       "1     2016  New South Wales  Australia                 10         1  \n",
       "2     2016  New South Wales  Australia                 10         0  \n",
       "3     2016  New South Wales  Australia                 10         1  \n",
       "4     2016  New South Wales  Australia                 10         1  \n",
       "\n",
       "[5 rows x 31 columns]"
      ]
     },
     "execution_count": 94,
     "metadata": {},
     "output_type": "execute_result"
    }
   ],
   "source": [
    "DataFrame.head()"
   ]
  },
  {
   "cell_type": "code",
   "execution_count": 95,
   "id": "ea69d9f3",
   "metadata": {},
   "outputs": [],
   "source": [
    "# predicting the segments where profit = 0 i.e. profit is low\n",
    "profit_0 = DataFrame[DataFrame['Predicted'] == 0]['wealth_segment'].value_counts()"
   ]
  },
  {
   "cell_type": "code",
   "execution_count": 96,
   "id": "f7d0e5ed",
   "metadata": {},
   "outputs": [],
   "source": [
    "# predicting the segments where profit = 1 i.e. profit is high\n",
    "profit_1 = DataFrame[DataFrame['Predicted']== 1]['wealth_segment'].value_counts()"
   ]
  },
  {
   "cell_type": "code",
   "execution_count": 97,
   "id": "4e4eb6d2",
   "metadata": {},
   "outputs": [
    {
     "data": {
      "text/plain": [
       "Mass Customer        4765\n",
       "High Net Worth       2345\n",
       "Affluent Customer    2304\n",
       "Name: wealth_segment, dtype: int64"
      ]
     },
     "execution_count": 97,
     "metadata": {},
     "output_type": "execute_result"
    }
   ],
   "source": [
    "# low profitable segments \n",
    "profit_0"
   ]
  },
  {
   "cell_type": "code",
   "execution_count": 98,
   "id": "5dcfe898",
   "metadata": {},
   "outputs": [
    {
     "data": {
      "text/plain": [
       "Mass Customer        5158\n",
       "High Net Worth       2695\n",
       "Affluent Customer    2498\n",
       "Name: wealth_segment, dtype: int64"
      ]
     },
     "execution_count": 98,
     "metadata": {},
     "output_type": "execute_result"
    }
   ],
   "source": [
    "# high profitable segments \n",
    "profit_1"
   ]
  },
  {
   "cell_type": "code",
   "execution_count": null,
   "id": "b1adc80d",
   "metadata": {},
   "outputs": [],
   "source": []
  },
  {
   "cell_type": "code",
   "execution_count": null,
   "id": "727762aa",
   "metadata": {},
   "outputs": [],
   "source": []
  },
  {
   "cell_type": "markdown",
   "id": "6184f270",
   "metadata": {},
   "source": [
    "## Taking our target data sheet New Customer and preparing the data for tableau visualisation"
   ]
  },
  {
   "cell_type": "markdown",
   "id": "2c43129d",
   "metadata": {},
   "source": [
    "### Reading the file and going through the data"
   ]
  },
  {
   "cell_type": "code",
   "execution_count": 99,
   "id": "5cf1975a",
   "metadata": {},
   "outputs": [],
   "source": [
    "New_customer = pd.read_excel(\"Data.xlsx\", sheet_name = 3)"
   ]
  },
  {
   "cell_type": "code",
   "execution_count": 100,
   "id": "82218b6f",
   "metadata": {},
   "outputs": [
    {
     "data": {
      "text/html": [
       "<div>\n",
       "<style scoped>\n",
       "    .dataframe tbody tr th:only-of-type {\n",
       "        vertical-align: middle;\n",
       "    }\n",
       "\n",
       "    .dataframe tbody tr th {\n",
       "        vertical-align: top;\n",
       "    }\n",
       "\n",
       "    .dataframe thead th {\n",
       "        text-align: right;\n",
       "    }\n",
       "</style>\n",
       "<table border=\"1\" class=\"dataframe\">\n",
       "  <thead>\n",
       "    <tr style=\"text-align: right;\">\n",
       "      <th></th>\n",
       "      <th>first_name</th>\n",
       "      <th>last_name</th>\n",
       "      <th>gender</th>\n",
       "      <th>past_3_years_bike_related_purchases</th>\n",
       "      <th>DOB</th>\n",
       "      <th>job_industry_category</th>\n",
       "      <th>wealth_segment</th>\n",
       "      <th>owns_car</th>\n",
       "      <th>tenure</th>\n",
       "      <th>address</th>\n",
       "      <th>postcode</th>\n",
       "      <th>state</th>\n",
       "      <th>country</th>\n",
       "      <th>property_valuation</th>\n",
       "      <th>Rank</th>\n",
       "      <th>Value</th>\n",
       "      <th>Age</th>\n",
       "    </tr>\n",
       "  </thead>\n",
       "  <tbody>\n",
       "    <tr>\n",
       "      <th>0</th>\n",
       "      <td>Chickie</td>\n",
       "      <td>Brister</td>\n",
       "      <td>Male</td>\n",
       "      <td>86</td>\n",
       "      <td>1957-07-12</td>\n",
       "      <td>Manufacturing</td>\n",
       "      <td>Mass Customer</td>\n",
       "      <td>Yes</td>\n",
       "      <td>14</td>\n",
       "      <td>45 Shopko Center</td>\n",
       "      <td>4500</td>\n",
       "      <td>QLD</td>\n",
       "      <td>Australia</td>\n",
       "      <td>6</td>\n",
       "      <td>1</td>\n",
       "      <td>1.718750</td>\n",
       "      <td>60.0</td>\n",
       "    </tr>\n",
       "    <tr>\n",
       "      <th>1</th>\n",
       "      <td>Morly</td>\n",
       "      <td>Genery</td>\n",
       "      <td>Male</td>\n",
       "      <td>69</td>\n",
       "      <td>1970-03-22</td>\n",
       "      <td>Property</td>\n",
       "      <td>Mass Customer</td>\n",
       "      <td>No</td>\n",
       "      <td>16</td>\n",
       "      <td>14 Mccormick Park</td>\n",
       "      <td>2113</td>\n",
       "      <td>NSW</td>\n",
       "      <td>Australia</td>\n",
       "      <td>11</td>\n",
       "      <td>1</td>\n",
       "      <td>1.718750</td>\n",
       "      <td>47.0</td>\n",
       "    </tr>\n",
       "    <tr>\n",
       "      <th>2</th>\n",
       "      <td>Ardelis</td>\n",
       "      <td>Forrester</td>\n",
       "      <td>Female</td>\n",
       "      <td>10</td>\n",
       "      <td>1974-08-28</td>\n",
       "      <td>Financial Services</td>\n",
       "      <td>Affluent Customer</td>\n",
       "      <td>No</td>\n",
       "      <td>10</td>\n",
       "      <td>5 Colorado Crossing</td>\n",
       "      <td>3505</td>\n",
       "      <td>VIC</td>\n",
       "      <td>Australia</td>\n",
       "      <td>5</td>\n",
       "      <td>1</td>\n",
       "      <td>1.718750</td>\n",
       "      <td>43.0</td>\n",
       "    </tr>\n",
       "    <tr>\n",
       "      <th>3</th>\n",
       "      <td>Lucine</td>\n",
       "      <td>Stutt</td>\n",
       "      <td>Female</td>\n",
       "      <td>64</td>\n",
       "      <td>1979-01-28</td>\n",
       "      <td>Manufacturing</td>\n",
       "      <td>Affluent Customer</td>\n",
       "      <td>Yes</td>\n",
       "      <td>5</td>\n",
       "      <td>207 Annamark Plaza</td>\n",
       "      <td>4814</td>\n",
       "      <td>QLD</td>\n",
       "      <td>Australia</td>\n",
       "      <td>1</td>\n",
       "      <td>4</td>\n",
       "      <td>1.703125</td>\n",
       "      <td>38.0</td>\n",
       "    </tr>\n",
       "    <tr>\n",
       "      <th>4</th>\n",
       "      <td>Melinda</td>\n",
       "      <td>Hadlee</td>\n",
       "      <td>Female</td>\n",
       "      <td>34</td>\n",
       "      <td>1965-09-21</td>\n",
       "      <td>Financial Services</td>\n",
       "      <td>Affluent Customer</td>\n",
       "      <td>No</td>\n",
       "      <td>19</td>\n",
       "      <td>115 Montana Place</td>\n",
       "      <td>2093</td>\n",
       "      <td>NSW</td>\n",
       "      <td>Australia</td>\n",
       "      <td>9</td>\n",
       "      <td>4</td>\n",
       "      <td>1.703125</td>\n",
       "      <td>52.0</td>\n",
       "    </tr>\n",
       "  </tbody>\n",
       "</table>\n",
       "</div>"
      ],
      "text/plain": [
       "  first_name  last_name  gender  past_3_years_bike_related_purchases  \\\n",
       "0    Chickie    Brister    Male                                   86   \n",
       "1      Morly     Genery    Male                                   69   \n",
       "2    Ardelis  Forrester  Female                                   10   \n",
       "3     Lucine      Stutt  Female                                   64   \n",
       "4    Melinda     Hadlee  Female                                   34   \n",
       "\n",
       "         DOB job_industry_category     wealth_segment owns_car  tenure  \\\n",
       "0 1957-07-12         Manufacturing      Mass Customer      Yes      14   \n",
       "1 1970-03-22              Property      Mass Customer       No      16   \n",
       "2 1974-08-28    Financial Services  Affluent Customer       No      10   \n",
       "3 1979-01-28         Manufacturing  Affluent Customer      Yes       5   \n",
       "4 1965-09-21    Financial Services  Affluent Customer       No      19   \n",
       "\n",
       "               address  postcode state    country  property_valuation  Rank  \\\n",
       "0     45 Shopko Center      4500   QLD  Australia                   6     1   \n",
       "1    14 Mccormick Park      2113   NSW  Australia                  11     1   \n",
       "2  5 Colorado Crossing      3505   VIC  Australia                   5     1   \n",
       "3   207 Annamark Plaza      4814   QLD  Australia                   1     4   \n",
       "4    115 Montana Place      2093   NSW  Australia                   9     4   \n",
       "\n",
       "      Value   Age  \n",
       "0  1.718750  60.0  \n",
       "1  1.718750  47.0  \n",
       "2  1.718750  43.0  \n",
       "3  1.703125  38.0  \n",
       "4  1.703125  52.0  "
      ]
     },
     "execution_count": 100,
     "metadata": {},
     "output_type": "execute_result"
    }
   ],
   "source": [
    "New_customer.head()"
   ]
  },
  {
   "cell_type": "code",
   "execution_count": 102,
   "id": "eda2d916",
   "metadata": {},
   "outputs": [],
   "source": [
    "#New_customer.drop(['Unnamed: 0'],axis = 1,inplace = True) # Dropping unnecessary columns"
   ]
  },
  {
   "cell_type": "code",
   "execution_count": 103,
   "id": "d17b2272",
   "metadata": {},
   "outputs": [
    {
     "data": {
      "text/html": [
       "<div>\n",
       "<style scoped>\n",
       "    .dataframe tbody tr th:only-of-type {\n",
       "        vertical-align: middle;\n",
       "    }\n",
       "\n",
       "    .dataframe tbody tr th {\n",
       "        vertical-align: top;\n",
       "    }\n",
       "\n",
       "    .dataframe thead th {\n",
       "        text-align: right;\n",
       "    }\n",
       "</style>\n",
       "<table border=\"1\" class=\"dataframe\">\n",
       "  <thead>\n",
       "    <tr style=\"text-align: right;\">\n",
       "      <th></th>\n",
       "      <th>first_name</th>\n",
       "      <th>last_name</th>\n",
       "      <th>gender</th>\n",
       "      <th>past_3_years_bike_related_purchases</th>\n",
       "      <th>DOB</th>\n",
       "      <th>job_industry_category</th>\n",
       "      <th>wealth_segment</th>\n",
       "      <th>owns_car</th>\n",
       "      <th>tenure</th>\n",
       "      <th>address</th>\n",
       "      <th>postcode</th>\n",
       "      <th>state</th>\n",
       "      <th>country</th>\n",
       "      <th>property_valuation</th>\n",
       "      <th>Rank</th>\n",
       "      <th>Value</th>\n",
       "      <th>Age</th>\n",
       "    </tr>\n",
       "  </thead>\n",
       "  <tbody>\n",
       "    <tr>\n",
       "      <th>0</th>\n",
       "      <td>Chickie</td>\n",
       "      <td>Brister</td>\n",
       "      <td>Male</td>\n",
       "      <td>86</td>\n",
       "      <td>1957-07-12</td>\n",
       "      <td>Manufacturing</td>\n",
       "      <td>Mass Customer</td>\n",
       "      <td>Yes</td>\n",
       "      <td>14</td>\n",
       "      <td>45 Shopko Center</td>\n",
       "      <td>4500</td>\n",
       "      <td>QLD</td>\n",
       "      <td>Australia</td>\n",
       "      <td>6</td>\n",
       "      <td>1</td>\n",
       "      <td>1.718750</td>\n",
       "      <td>60.0</td>\n",
       "    </tr>\n",
       "    <tr>\n",
       "      <th>1</th>\n",
       "      <td>Morly</td>\n",
       "      <td>Genery</td>\n",
       "      <td>Male</td>\n",
       "      <td>69</td>\n",
       "      <td>1970-03-22</td>\n",
       "      <td>Property</td>\n",
       "      <td>Mass Customer</td>\n",
       "      <td>No</td>\n",
       "      <td>16</td>\n",
       "      <td>14 Mccormick Park</td>\n",
       "      <td>2113</td>\n",
       "      <td>NSW</td>\n",
       "      <td>Australia</td>\n",
       "      <td>11</td>\n",
       "      <td>1</td>\n",
       "      <td>1.718750</td>\n",
       "      <td>47.0</td>\n",
       "    </tr>\n",
       "    <tr>\n",
       "      <th>2</th>\n",
       "      <td>Ardelis</td>\n",
       "      <td>Forrester</td>\n",
       "      <td>Female</td>\n",
       "      <td>10</td>\n",
       "      <td>1974-08-28</td>\n",
       "      <td>Financial Services</td>\n",
       "      <td>Affluent Customer</td>\n",
       "      <td>No</td>\n",
       "      <td>10</td>\n",
       "      <td>5 Colorado Crossing</td>\n",
       "      <td>3505</td>\n",
       "      <td>VIC</td>\n",
       "      <td>Australia</td>\n",
       "      <td>5</td>\n",
       "      <td>1</td>\n",
       "      <td>1.718750</td>\n",
       "      <td>43.0</td>\n",
       "    </tr>\n",
       "    <tr>\n",
       "      <th>3</th>\n",
       "      <td>Lucine</td>\n",
       "      <td>Stutt</td>\n",
       "      <td>Female</td>\n",
       "      <td>64</td>\n",
       "      <td>1979-01-28</td>\n",
       "      <td>Manufacturing</td>\n",
       "      <td>Affluent Customer</td>\n",
       "      <td>Yes</td>\n",
       "      <td>5</td>\n",
       "      <td>207 Annamark Plaza</td>\n",
       "      <td>4814</td>\n",
       "      <td>QLD</td>\n",
       "      <td>Australia</td>\n",
       "      <td>1</td>\n",
       "      <td>4</td>\n",
       "      <td>1.703125</td>\n",
       "      <td>38.0</td>\n",
       "    </tr>\n",
       "    <tr>\n",
       "      <th>4</th>\n",
       "      <td>Melinda</td>\n",
       "      <td>Hadlee</td>\n",
       "      <td>Female</td>\n",
       "      <td>34</td>\n",
       "      <td>1965-09-21</td>\n",
       "      <td>Financial Services</td>\n",
       "      <td>Affluent Customer</td>\n",
       "      <td>No</td>\n",
       "      <td>19</td>\n",
       "      <td>115 Montana Place</td>\n",
       "      <td>2093</td>\n",
       "      <td>NSW</td>\n",
       "      <td>Australia</td>\n",
       "      <td>9</td>\n",
       "      <td>4</td>\n",
       "      <td>1.703125</td>\n",
       "      <td>52.0</td>\n",
       "    </tr>\n",
       "  </tbody>\n",
       "</table>\n",
       "</div>"
      ],
      "text/plain": [
       "  first_name  last_name  gender  past_3_years_bike_related_purchases  \\\n",
       "0    Chickie    Brister    Male                                   86   \n",
       "1      Morly     Genery    Male                                   69   \n",
       "2    Ardelis  Forrester  Female                                   10   \n",
       "3     Lucine      Stutt  Female                                   64   \n",
       "4    Melinda     Hadlee  Female                                   34   \n",
       "\n",
       "         DOB job_industry_category     wealth_segment owns_car  tenure  \\\n",
       "0 1957-07-12         Manufacturing      Mass Customer      Yes      14   \n",
       "1 1970-03-22              Property      Mass Customer       No      16   \n",
       "2 1974-08-28    Financial Services  Affluent Customer       No      10   \n",
       "3 1979-01-28         Manufacturing  Affluent Customer      Yes       5   \n",
       "4 1965-09-21    Financial Services  Affluent Customer       No      19   \n",
       "\n",
       "               address  postcode state    country  property_valuation  Rank  \\\n",
       "0     45 Shopko Center      4500   QLD  Australia                   6     1   \n",
       "1    14 Mccormick Park      2113   NSW  Australia                  11     1   \n",
       "2  5 Colorado Crossing      3505   VIC  Australia                   5     1   \n",
       "3   207 Annamark Plaza      4814   QLD  Australia                   1     4   \n",
       "4    115 Montana Place      2093   NSW  Australia                   9     4   \n",
       "\n",
       "      Value   Age  \n",
       "0  1.718750  60.0  \n",
       "1  1.718750  47.0  \n",
       "2  1.718750  43.0  \n",
       "3  1.703125  38.0  \n",
       "4  1.703125  52.0  "
      ]
     },
     "execution_count": 103,
     "metadata": {},
     "output_type": "execute_result"
    }
   ],
   "source": [
    "New_customer.head() # rechecking the data"
   ]
  },
  {
   "cell_type": "markdown",
   "id": "b4b0cd3e",
   "metadata": {},
   "source": [
    "### Transforming the new dataset"
   ]
  },
  {
   "cell_type": "code",
   "execution_count": null,
   "id": "c03f31cc",
   "metadata": {},
   "outputs": [],
   "source": [
    "import pandas as pd\n",
    "from sklearn import preprocessing\n",
    "\n",
    "def drop_columns(df, columns_to_drop):\n",
    "    return df.drop(columns=columns_to_drop)\n",
    "\n",
    "def transform_data(df, state_mapping, label_encoding_cols, one_hot_encoding_cols):\n",
    "    # Replace values in 'state' column using the mapping dictionary\n",
    "    df['state'] = df['state'].replace(state_mapping)\n",
    "    \n",
    "    # Label Encoding\n",
    "    label_encoder = preprocessing.LabelEncoder()\n",
    "    for column in label_encoding_cols:\n",
    "        df[column] = label_encoder.fit_transform(df[column])\n",
    "\n",
    "    # One-Hot Encoding\n",
    "    df = pd.get_dummies(df, columns=one_hot_encoding_cols, drop_first=True)\n",
    "    \n",
    "    return df\n",
    "\n",
    "def transform_pipeline(file_path):\n",
    "    try:\n",
    "        # Step 1: Data loading\n",
    "        df = pd.read_excel(file_path)\n",
    "\n",
    "        # Step 2: Replace values in 'state' column using the mapping dictionary\n",
    "        state_mapping = {\n",
    "            'QLD': 'Queensland',\n",
    "            'VIC': 'Victoria',\n",
    "            'NSW': 'New South Wales'\n",
    "        }\n",
    "\n",
    "        # Step 3: Dropping columns\n",
    "        columns_to_drop = ['Unnamed: 0', 'first_name', 'last_name', 'country', 'DOB', 'address', 'Rank', 'Value']\n",
    "        df = drop_columns(df, columns_to_drop)\n",
    "\n",
    "        # Step 4: Data transformation (with label encoding and state replacement)\n",
    "        label_encoding_cols = ['wealth_segment', 'state', 'job_industry_category']\n",
    "        one_hot_encoding_cols = ['owns_car', 'state', 'gender']\n",
    "        df = transform_data(df, state_mapping, label_encoding_cols, one_hot_encoding_cols)\n",
    "\n",
    "        return df\n",
    "\n",
    "    except FileNotFoundError:\n",
    "        print(f\"File not found: {file_path}\")\n",
    "        return None\n",
    "\n",
    "# Example usage:\n",
    "if __name__ == \"__main__\":\n",
    "    transformed_df = transform_pipeline('new_customer.xlsx')\n",
    "    if transformed_df is not None:\n",
    "        print(\"DataFrame after pipeline transformation:\")\n",
    "        print(transformed_df.head())"
   ]
  },
  {
   "cell_type": "code",
   "execution_count": null,
   "id": "0024b27c",
   "metadata": {},
   "outputs": [],
   "source": [
    "# import pandas as pd\n",
    "# from sklearn.pipeline import Pipeline\n",
    "# from sklearn.base import BaseEstimator, TransformerMixin\n",
    "# from sklearn import preprocessing\n",
    "\n",
    "# class ColumnDropper(BaseEstimator, TransformerMixin):\n",
    "#     def __init__(self, columns_to_drop):\n",
    "#         self.columns_to_drop = columns_to_drop\n",
    "\n",
    "#     def fit(self, X, y=None):\n",
    "#         return self\n",
    "\n",
    "#     def transform(self, X):\n",
    "#         return X.drop(self.columns_to_drop, axis=1)\n",
    "\n",
    "# class DataTransformer(BaseEstimator, TransformerMixin):\n",
    "#     def __init__(self, state_mapping, label_encoding, hot_encoding):\n",
    "#         self.label_encoding = label_encoding\n",
    "#         self.hot_encoding = hot_encoding\n",
    "#         self.state_mapping = state_mapping\n",
    "\n",
    "#     def fit(self, X, y=None):\n",
    "#         return self\n",
    "\n",
    "#     def transform(self, X):\n",
    "#         # Replace values in 'state' column using the mapping dictionary\n",
    "#         X['state'] = X['state'].replace(self.state_mapping)\n",
    "        \n",
    "#         # Label Encoding\n",
    "#         label_encoder = preprocessing.LabelEncoder()\n",
    "#         for column in self.label_encoding:\n",
    "#             X[column] = label_encoder.fit_transform(X[column])\n",
    "\n",
    "#         # Hot Encoding\n",
    "#         for column in self.hot_encoding:\n",
    "#             X = pd.get_dummies(X, columns=[column], drop_first=True)\n",
    "\n",
    "#         return X\n",
    "\n",
    "# def transform_pipeline(file_path):\n",
    "#     try:\n",
    "#         # Step 1: Data loading\n",
    "#         df = pd.read_excel(file_path)\n",
    "\n",
    "#         # Step 2: Replace values in 'state' column using the mapping dictionary\n",
    "#         state_mapping = {\n",
    "#             'QLD': 'Queensland',\n",
    "#             'VIC': 'Victoria',\n",
    "#             'NSW': 'New South Wales'\n",
    "#         }\n",
    "\n",
    "#         # Step 3: Dropping columns\n",
    "#         list_to_drop = ['Unnamed: 0', 'first_name', 'last_name', 'country', 'DOB', 'address', 'Rank', 'Value']\n",
    "#         drop_columns_transformer = ColumnDropper(columns_to_drop=list_to_drop)\n",
    "#         df = drop_columns_transformer.transform(df)\n",
    "\n",
    "\n",
    "        \n",
    "\n",
    "#         # Step 4: Data transformation (with label encoding and state replacement)\n",
    "#         label_encoding = ['wealth_segment', 'state', 'job_industry_category']\n",
    "#         hot_encoding = ['owns_car', 'state', 'gender']\n",
    "#         data_transformer = DataTransformer(label_encoding=label_encoding, hot_encoding=hot_encoding, state_mapping=state_mapping)\n",
    "#         df = data_transformer.transform(df)\n",
    "\n",
    "#         return df\n",
    "\n",
    "#     except FileNotFoundError:\n",
    "#         print(f\"File not found: {file_path}\")\n",
    "#         return None\n",
    "\n",
    "# # Example usage:\n",
    "# if __name__ == \"__main__\":\n",
    "#     transformed_df = transform_pipeline('new_customer.xlsx')\n",
    "#     if transformed_df is not None:\n",
    "#         print(\"DataFrame after pipeline transformation:\")\n",
    "#         print(transformed_df.head())\n"
   ]
  },
  {
   "cell_type": "markdown",
   "id": "f3a9005a",
   "metadata": {},
   "source": [
    "### Reverse Engineering"
   ]
  },
  {
   "cell_type": "code",
   "execution_count": null,
   "id": "1e0d5b58",
   "metadata": {},
   "outputs": [],
   "source": [
    "# type(y_pred_test)"
   ]
  },
  {
   "cell_type": "code",
   "execution_count": null,
   "id": "f055d538",
   "metadata": {},
   "outputs": [],
   "source": [
    "# test_data= pd.DataFrame(y_pred_test)"
   ]
  },
  {
   "cell_type": "code",
   "execution_count": null,
   "id": "0992935c",
   "metadata": {},
   "outputs": [],
   "source": [
    "# train_data = pd.DataFrame(y_prob_train)"
   ]
  },
  {
   "cell_type": "code",
   "execution_count": null,
   "id": "042505a8",
   "metadata": {},
   "outputs": [],
   "source": [
    "# train_data"
   ]
  },
  {
   "cell_type": "code",
   "execution_count": null,
   "id": "c748313d",
   "metadata": {},
   "outputs": [],
   "source": [
    "# combined = pd.concat([train_data,test_data]) # concating the train and test data"
   ]
  },
  {
   "cell_type": "code",
   "execution_count": null,
   "id": "b9b9767c",
   "metadata": {},
   "outputs": [],
   "source": [
    "# combined = combined.reset_index(drop=True)\n"
   ]
  },
  {
   "cell_type": "code",
   "execution_count": null,
   "id": "9d10d006",
   "metadata": {},
   "outputs": [],
   "source": [
    "# DataFrame['Predicted'] = combined"
   ]
  },
  {
   "cell_type": "code",
   "execution_count": null,
   "id": "d18ecb77",
   "metadata": {},
   "outputs": [],
   "source": [
    "# DataFrame.head()"
   ]
  },
  {
   "cell_type": "code",
   "execution_count": null,
   "id": "cb0b4b2e",
   "metadata": {},
   "outputs": [],
   "source": [
    "# predicting the segments where profit = 0 i.e. profit is low\n",
    "# profit_0 = DataFrame[DataFrame['Predicted'] == 0]['wealth_segment'].value_counts()"
   ]
  },
  {
   "cell_type": "code",
   "execution_count": null,
   "id": "3cb25b41",
   "metadata": {},
   "outputs": [],
   "source": [
    "# predicting the segments where profit = 1 i.e. profit is high\n",
    "# profit_1 = DataFrame[DataFrame['Predicted']== 1]['wealth_segment'].value_counts()"
   ]
  },
  {
   "cell_type": "code",
   "execution_count": null,
   "id": "22bb339b",
   "metadata": {},
   "outputs": [],
   "source": [
    "# low profitable segments \n",
    "# profit_0"
   ]
  },
  {
   "cell_type": "code",
   "execution_count": null,
   "id": "bb18be45",
   "metadata": {},
   "outputs": [],
   "source": [
    "# more profitable segments\n",
    "# profit_1"
   ]
  },
  {
   "cell_type": "code",
   "execution_count": null,
   "id": "4ceca1df",
   "metadata": {},
   "outputs": [],
   "source": []
  }
 ],
 "metadata": {
  "kernelspec": {
   "display_name": "Python 3 (ipykernel)",
   "language": "python",
   "name": "python3"
  },
  "language_info": {
   "codemirror_mode": {
    "name": "ipython",
    "version": 3
   },
   "file_extension": ".py",
   "mimetype": "text/x-python",
   "name": "python",
   "nbconvert_exporter": "python",
   "pygments_lexer": "ipython3",
   "version": "3.9.13"
  }
 },
 "nbformat": 4,
 "nbformat_minor": 5
}
